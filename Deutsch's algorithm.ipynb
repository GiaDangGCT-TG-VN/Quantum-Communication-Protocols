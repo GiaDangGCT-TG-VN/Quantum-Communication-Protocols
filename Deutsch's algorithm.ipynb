{
 "cells": [
  {
   "cell_type": "code",
   "execution_count": 1,
   "id": "eaebf8a9-72f4-4760-a807-2c7090a3a17c",
   "metadata": {},
   "outputs": [],
   "source": [
    "#define quantum circuit to implement query \n",
    "from qiskit import QuantumCircuit\n",
    "def deutsch_function(case: int):\n",
    "    \"\"\" \n",
    "    Gnerate a valid Deustch function as 'QuantumCircuit'\n",
    "    \"\"\" \n",
    "    if case not in [1,2,3,4]:\n",
    "        raise Valuerror(\"'case' must be 1,2,3, or 4.\")\n",
    "\n",
    "    f = QuantumCircuit(2) \n",
    "    if case in [2,3]:\n",
    "        f.cx(0, 1)\n",
    "    if case in [3,4]:\n",
    "        f.x(1)\n",
    "    return f "
   ]
  },
  {
   "cell_type": "code",
   "execution_count": 2,
   "id": "f4fdfbe2-aa90-4051-815c-a82b981f626b",
   "metadata": {},
   "outputs": [
    {
     "data": {
      "text/html": [
       "<pre style=\"word-wrap: normal;white-space: pre;background: #fff0;line-height: 1.1;font-family: &quot;Courier New&quot;,Courier,monospace\">               \n",
       "q_0: ──■───────\n",
       "     ┌─┴─┐┌───┐\n",
       "q_1: ┤ X ├┤ X ├\n",
       "     └───┘└───┘</pre>"
      ],
      "text/plain": [
       "               \n",
       "q_0: ──■───────\n",
       "     ┌─┴─┐┌───┐\n",
       "q_1: ┤ X ├┤ X ├\n",
       "     └───┘└───┘"
      ]
     },
     "execution_count": 2,
     "metadata": {},
     "output_type": "execute_result"
    }
   ],
   "source": [
    "deutsch_function(3).draw()"
   ]
  },
  {
   "cell_type": "code",
   "execution_count": 3,
   "id": "2fdfcaeb-c114-4f91-b276-1a1efb6489a1",
   "metadata": {},
   "outputs": [],
   "source": [
    "def compile_circuit(function: QuantumCircuit):\n",
    "    \"\"\"\n",
    "    Compiles a circuit for use in Deutsch's algorithm.\n",
    "    \"\"\"\n",
    "    n = function.num_qubits-1\n",
    "    qc = QuantumCircuit(n+1, n)\n",
    "\n",
    "    qc.x(n)\n",
    "    qc.h(range(n+1))\n",
    "\n",
    "    qc.barrier()\n",
    "    qc.compose(function, inplace=True)\n",
    "    qc.barrier()\n",
    "\n",
    "    qc.h(range(n))\n",
    "    qc.measure(range(n), range(n))\n",
    "\n",
    "    return qc"
   ]
  },
  {
   "cell_type": "code",
   "execution_count": 4,
   "id": "5fbdbb06-31f8-4035-a956-308f53fc81e8",
   "metadata": {},
   "outputs": [
    {
     "data": {
      "text/html": [
       "<pre style=\"word-wrap: normal;white-space: pre;background: #fff0;line-height: 1.1;font-family: &quot;Courier New&quot;,Courier,monospace\">     ┌───┐      ░            ░ ┌───┐┌─┐\n",
       "q_0: ┤ H ├──────░───■────────░─┤ H ├┤M├\n",
       "     ├───┤┌───┐ ░ ┌─┴─┐┌───┐ ░ └───┘└╥┘\n",
       "q_1: ┤ X ├┤ H ├─░─┤ X ├┤ X ├─░───────╫─\n",
       "     └───┘└───┘ ░ └───┘└───┘ ░       ║ \n",
       "c: 1/════════════════════════════════╩═\n",
       "                                     0 </pre>"
      ],
      "text/plain": [
       "     ┌───┐      ░            ░ ┌───┐┌─┐\n",
       "q_0: ┤ H ├──────░───■────────░─┤ H ├┤M├\n",
       "     ├───┤┌───┐ ░ ┌─┴─┐┌───┐ ░ └───┘└╥┘\n",
       "q_1: ┤ X ├┤ H ├─░─┤ X ├┤ X ├─░───────╫─\n",
       "     └───┘└───┘ ░ └───┘└───┘ ░       ║ \n",
       "c: 1/════════════════════════════════╩═\n",
       "                                     0 "
      ]
     },
     "execution_count": 4,
     "metadata": {},
     "output_type": "execute_result"
    }
   ],
   "source": [
    "compile_circuit(\n",
    "    deutsch_function(3)\n",
    ").draw()"
   ]
  },
  {
   "cell_type": "code",
   "execution_count": 5,
   "id": "0a82e87b-d875-43dc-94cc-12bff0cc83ec",
   "metadata": {},
   "outputs": [],
   "source": [
    "from qiskit_aer import AerSimulator \n",
    "\n",
    "def deutsch_algorithm(function: QuantumCircuit):\n",
    "    \"\"\"\n",
    "    Determine if a Deutsch function is constant or balanced. \n",
    "    \"\"\"\n",
    "\n",
    "    qc = compile_circuit(function)\n",
    "\n",
    "    result = AerSimulator().run(qc,shorts=1,memory=True).result()\n",
    "    measurement = result.get_memory()\n",
    "    if measurement[0] == '0':\n",
    "        return 'constant'\n",
    "    return 'balanced'"
   ]
  },
  {
   "cell_type": "code",
   "execution_count": 6,
   "id": "f4e11337-fae8-4b92-882a-8dd22afb36eb",
   "metadata": {},
   "outputs": [
    {
     "data": {
      "text/html": [
       "<pre style=\"word-wrap: normal;white-space: pre;background: #fff0;line-height: 1.1;font-family: &quot;Courier New&quot;,Courier,monospace\">               \n",
       "q_0: ──■───────\n",
       "     ┌─┴─┐┌───┐\n",
       "q_1: ┤ X ├┤ X ├\n",
       "     └───┘└───┘</pre>"
      ],
      "text/plain": [
       "               \n",
       "q_0: ──■───────\n",
       "     ┌─┴─┐┌───┐\n",
       "q_1: ┤ X ├┤ X ├\n",
       "     └───┘└───┘"
      ]
     },
     "metadata": {},
     "output_type": "display_data"
    },
    {
     "data": {
      "text/plain": [
       "'balanced'"
      ]
     },
     "execution_count": 6,
     "metadata": {},
     "output_type": "execute_result"
    }
   ],
   "source": [
    "f = deutsch_function(3)\n",
    "display(f.draw())\n",
    "deutsch_algorithm(f)\n"
   ]
  },
  {
   "cell_type": "code",
   "execution_count": 7,
   "id": "38216fb9-e856-4370-b9b7-d8b1af32a9c8",
   "metadata": {},
   "outputs": [],
   "source": [
    "from qiskit import QuantumCircuit\n",
    "import numpy as np\n",
    "\n",
    "def dj_function(num_qubits):\n",
    "\n",
    "    \"\"\"\n",
    "    Create a random Deutsch-Jozsa function.\n",
    "    \"\"\"\n",
    "\n",
    "    qc = QuantumCircuit(num_qubits+1)\n",
    "    if np.random.randint(0, 2):\n",
    "        #flip output qubit with 50% chance\n",
    "        qc.x(num_qubits)\n",
    "    if np.random.randint(0, 2):\n",
    "        #return constant circuit with 50% chance\n",
    "        return qc \n",
    "\n",
    "    #next, choose half the possible input states\n",
    "    on_states = np.random.choice(\n",
    "        range(2**num_qubits), #number to sample from \n",
    "        2**num_qubits // 2, #number of samples\n",
    "        replace=False # makes sure states are only sampled once. \n",
    "    )\n",
    "\n",
    "    def add_cx(qc, bit_string):\n",
    "        for qubit, bit in enumerate(reversed(bit_string)):\n",
    "            if bit == '1':\n",
    "                qc.x(qubit)\n",
    "        return qc \n",
    "\n",
    "    for state in on_states:\n",
    "        qc.barrier() # Barriers are added to help visualize how the function are created. they can safely be removed. \n",
    "        qc = add_cx(qc, f\"{state:0b}\")\n",
    "        qc.mct(list(range(num_qubits)), num_qubits)\n",
    "        qc = add_cx(qc, f\"{state:0b}\")\n",
    "\n",
    "    qc.barrier()\n",
    "\n",
    "    return qc"
   ]
  },
  {
   "cell_type": "code",
   "execution_count": 8,
   "id": "b71c028e-20d8-4eee-b09b-356e64f34505",
   "metadata": {},
   "outputs": [
    {
     "data": {
      "text/html": [
       "<pre style=\"word-wrap: normal;white-space: pre;background: #fff0;line-height: 1.1;font-family: &quot;Courier New&quot;,Courier,monospace\">     \n",
       "q_0: \n",
       "     \n",
       "q_1: \n",
       "     \n",
       "q_2: \n",
       "     \n",
       "q_3: \n",
       "     </pre>"
      ],
      "text/plain": [
       "     \n",
       "q_0: \n",
       "     \n",
       "q_1: \n",
       "     \n",
       "q_2: \n",
       "     \n",
       "q_3: \n",
       "     "
      ]
     },
     "execution_count": 8,
     "metadata": {},
     "output_type": "execute_result"
    }
   ],
   "source": [
    "dj_function(3).draw()"
   ]
  },
  {
   "cell_type": "code",
   "execution_count": null,
   "id": "d4d69f78-0a47-458f-89bf-f6ed5e2f1cbb",
   "metadata": {},
   "outputs": [],
   "source": []
  },
  {
   "cell_type": "code",
   "execution_count": 11,
   "id": "e6700bac-9b57-4f76-ab65-75ba81d55802",
   "metadata": {},
   "outputs": [],
   "source": [
    "#finally a function that runs the Deutsch-Jozsa circuit once is defined\n",
    "\n",
    "from qiskit_aer import AerSimulator \n",
    "\n",
    "def dj_algorithm(function: QuantumCircuit):\n",
    "    \"\"\"\n",
    "    Determined if Deutsch-Josza fucntion is constant or balance. \n",
    "    \"\"\"\n",
    "\n",
    "    qc = compile_circuit(function)\n",
    "\n",
    "    result  = AerSimulator().run(qc,shot-1,memory=True).result()\n",
    "    measurements = result.get_memory()\n",
    "    if '1' in measurement[0]:\n",
    "        return 'balanced'\n",
    "    return 'constant'"
   ]
  },
  {
   "cell_type": "code",
   "execution_count": 12,
   "id": "2cded51e-2af0-4c05-ab27-feded5970d2f",
   "metadata": {},
   "outputs": [
    {
     "data": {
      "text/html": [
       "<pre style=\"word-wrap: normal;white-space: pre;background: #fff0;line-height: 1.1;font-family: &quot;Courier New&quot;,Courier,monospace\">               \n",
       "q_0: ──■───────\n",
       "       │       \n",
       "q_1: ──┼───────\n",
       "       │       \n",
       "q_2: ──┼───────\n",
       "       │       \n",
       "q_3: ──┼────■──\n",
       "     ┌─┴─┐┌─┴─┐\n",
       "q_4: ┤ X ├┤ X ├\n",
       "     └───┘└───┘</pre>"
      ],
      "text/plain": [
       "               \n",
       "q_0: ──■───────\n",
       "       │       \n",
       "q_1: ──┼───────\n",
       "       │       \n",
       "q_2: ──┼───────\n",
       "       │       \n",
       "q_3: ──┼────■──\n",
       "     ┌─┴─┐┌─┴─┐\n",
       "q_4: ┤ X ├┤ X ├\n",
       "     └───┘└───┘"
      ]
     },
     "execution_count": 12,
     "metadata": {},
     "output_type": "execute_result"
    }
   ],
   "source": [
    "def bv_function(s):\n",
    "    \"\"\"\n",
    "    Create a Bernstein-Vazirani function from a string of 1s and 0s.\n",
    "    \"\"\"\n",
    "    qc = QuantumCircuit(len(s)+1)\n",
    "    for index, bit in enumerate(reversed(s)):\n",
    "        if bit == '1':\n",
    "            qc.cx(index, len(s))\n",
    "    return qc\n",
    "\n",
    "bv_function('1001').draw()"
   ]
  },
  {
   "cell_type": "code",
   "execution_count": null,
   "id": "8e257b9c-acbe-4a96-acb1-5155cd83d80d",
   "metadata": {},
   "outputs": [],
   "source": []
  }
 ],
 "metadata": {
  "kernelspec": {
   "display_name": "Python 3 (ipykernel)",
   "language": "python",
   "name": "python3"
  },
  "language_info": {
   "codemirror_mode": {
    "name": "ipython",
    "version": 3
   },
   "file_extension": ".py",
   "mimetype": "text/x-python",
   "name": "python",
   "nbconvert_exporter": "python",
   "pygments_lexer": "ipython3",
   "version": "3.9.6"
  }
 },
 "nbformat": 4,
 "nbformat_minor": 5
}
