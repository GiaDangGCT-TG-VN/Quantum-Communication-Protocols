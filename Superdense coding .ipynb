{
 "cells": [
  {
   "cell_type": "code",
   "execution_count": null,
   "id": "3042c9d0-e6b2-4ac8-b066-5f35e840e833",
   "metadata": {},
   "outputs": [],
   "source": [
    "#specify the bits to be transmitted \n",
    "a = \"1\"\n",
    "b = \"2\"\n",
    "#name the qubit: q0 for the top qubit and q1 for the bottom one. \n",
    "from qiskit import QuantumCircuit\n",
    "\n",
    "protocol = QuantumCircuit(2)\n",
    "\n",
    "#prepare e-bit used for superdense \n",
    "protocol.h(0)\n",
    "protocol.cx(0, 1)\n",
    "protocol.barrier()"
   ]
  },
  {
   "cell_type": "code",
   "execution_count": null,
   "id": "3858cdbc-b3d8-44f0-b274-d0761f366a81",
   "metadata": {},
   "outputs": [],
   "source": [
    "#Alice's operation \n",
    "if b == \"1\":\n",
    "    protocol.z(0)\n",
    "if a == \"1\":\n",
    "    protocol.x(0)\n",
    "protocol.barrier()"
   ]
  },
  {
   "cell_type": "code",
   "execution_count": null,
   "id": "f05069a9-87d8-4be2-8000-92ad04ead508",
   "metadata": {},
   "outputs": [],
   "source": [
    "#bob's action \n",
    "protocol.cx(0, 1)\n",
    "protocol.h(0)\n",
    "protocol.measure_all()\n",
    "\n",
    "protocol.draw()"
   ]
  },
  {
   "cell_type": "code",
   "execution_count": null,
   "id": "1900ec49-a9d1-4ed0-98ca-543331278631",
   "metadata": {},
   "outputs": [],
   "source": [
    "from qiskit_aer import AerSimulator \n",
    "from qiskit.visualization import plot_histogram\n",
    "\n",
    "counts = AerSimulator().run(protocol).result().get_counts()\n",
    "for outcome, frequency in counts.items():\n",
    "    print(f\"Measure{outcome} with frequency {frequency}\")\n",
    "plot_histogram(counts)"
   ]
  },
  {
   "cell_type": "code",
   "execution_count": 6,
   "id": "0d5e6574-7b51-4e3d-b89b-d0d68c789c74",
   "metadata": {},
   "outputs": [],
   "source": [
    "#additional qubit as a random bit generator\n",
    "from qiskit import QuantumCircuit, QuantumRegister, ClassicalRegister\n",
    "\n",
    "rbg = QuantumRegister(1, \"randomizer\")\n",
    "ebit0 = QuantumRegister(1, \"A\")\n",
    "ebit1 = QuantumRegister(1, \"B\")\n",
    "\n",
    "Alice_a = ClassicalRegister(1, \"Alice a\")\n",
    "Alice_b = ClassicalRegister(1, \"Alice b\")\n",
    "\n",
    "test = QuantumCircuit(rbg, ebit0, ebit1, Alice_a, Alice_b)\n"
   ]
  },
  {
   "cell_type": "code",
   "execution_count": 7,
   "id": "cd8b6d4e-349b-44f8-b39c-5894389f354a",
   "metadata": {},
   "outputs": [
    {
     "data": {
      "text/plain": [
       "<qiskit.circuit.instructionset.InstructionSet at 0x12a0d9370>"
      ]
     },
     "execution_count": 7,
     "metadata": {},
     "output_type": "execute_result"
    }
   ],
   "source": [
    "#Initialize the ebit\n",
    "test.h(ebit0)\n",
    "test.cx(ebit0, ebit1)\n",
    "test.barrier()\n"
   ]
  },
  {
   "cell_type": "code",
   "execution_count": 12,
   "id": "b7dc8ae3-3293-4212-aa1e-e77f5d928b6a",
   "metadata": {},
   "outputs": [
    {
     "data": {
      "text/plain": [
       "<qiskit.circuit.instructionset.InstructionSet at 0x12aaf40d0>"
      ]
     },
     "execution_count": 12,
     "metadata": {},
     "output_type": "execute_result"
    }
   ],
   "source": [
    "#use the 'randomizer' qubit twice to generate alice's bits a and b. \n",
    "test.h(rbg)\n",
    "test.measure(rbg, Alice_a)\n",
    "test.h(rbg)\n",
    "test.measure(rbg, Alice_b)\n",
    "test.barrier()\n",
    "\n",
    "#now the protocol runs, starting with Alice's action, which depend on her bits. \n",
    "with test.if_test((Alice_b, 1), label=\"Z\"):\n",
    "    test.z(ebit0)\n",
    "with test.if_test((Alice_a, 1), label=\"X\"):\n",
    "    test.x(ebit0)\n",
    "test.barrier()"
   ]
  },
  {
   "cell_type": "code",
   "execution_count": 16,
   "id": "c59f55d5-0489-4f78-8357-f9f4bfe8d6fc",
   "metadata": {},
   "outputs": [
    {
     "ename": "CircuitError",
     "evalue": "'register name \"Bob b\" already exists'",
     "output_type": "error",
     "traceback": [
      "\u001b[0;31m---------------------------------------------------------------------------\u001b[0m",
      "\u001b[0;31mCircuitError\u001b[0m                              Traceback (most recent call last)",
      "Cell \u001b[0;32mIn[16], line 8\u001b[0m\n\u001b[1;32m      6\u001b[0m Bob_a \u001b[38;5;241m=\u001b[39m ClassicalRegister(\u001b[38;5;241m1\u001b[39m, \u001b[38;5;124m\"\u001b[39m\u001b[38;5;124mBob a\u001b[39m\u001b[38;5;124m\"\u001b[39m)\n\u001b[1;32m      7\u001b[0m Bob_b \u001b[38;5;241m=\u001b[39m ClassicalRegister(\u001b[38;5;241m1\u001b[39m, \u001b[38;5;124m\"\u001b[39m\u001b[38;5;124mBob b\u001b[39m\u001b[38;5;124m\"\u001b[39m)\n\u001b[0;32m----> 8\u001b[0m \u001b[43mtest\u001b[49m\u001b[38;5;241;43m.\u001b[39;49m\u001b[43madd_register\u001b[49m\u001b[43m(\u001b[49m\u001b[43mBob_b\u001b[49m\u001b[43m)\u001b[49m\n\u001b[1;32m      9\u001b[0m test\u001b[38;5;241m.\u001b[39madd_register(Bob_a)\n\u001b[1;32m     10\u001b[0m test\u001b[38;5;241m.\u001b[39mmeasure(ebit1, Bob_a)\n",
      "File \u001b[0;32m~/myenv/lib/python3.9/site-packages/qiskit/circuit/quantumcircuit.py:1449\u001b[0m, in \u001b[0;36mQuantumCircuit.add_register\u001b[0;34m(self, *regs)\u001b[0m\n\u001b[1;32m   1445\u001b[0m \u001b[38;5;28;01mfor\u001b[39;00m register \u001b[38;5;129;01min\u001b[39;00m regs:\n\u001b[1;32m   1446\u001b[0m     \u001b[38;5;28;01mif\u001b[39;00m \u001b[38;5;28misinstance\u001b[39m(register, Register) \u001b[38;5;129;01mand\u001b[39;00m \u001b[38;5;28many\u001b[39m(\n\u001b[1;32m   1447\u001b[0m         register\u001b[38;5;241m.\u001b[39mname \u001b[38;5;241m==\u001b[39m reg\u001b[38;5;241m.\u001b[39mname \u001b[38;5;28;01mfor\u001b[39;00m reg \u001b[38;5;129;01min\u001b[39;00m \u001b[38;5;28mself\u001b[39m\u001b[38;5;241m.\u001b[39mqregs \u001b[38;5;241m+\u001b[39m \u001b[38;5;28mself\u001b[39m\u001b[38;5;241m.\u001b[39mcregs\n\u001b[1;32m   1448\u001b[0m     ):\n\u001b[0;32m-> 1449\u001b[0m         \u001b[38;5;28;01mraise\u001b[39;00m CircuitError(\u001b[38;5;124m'\u001b[39m\u001b[38;5;124mregister name \u001b[39m\u001b[38;5;124m\"\u001b[39m\u001b[38;5;132;01m%s\u001b[39;00m\u001b[38;5;124m\"\u001b[39m\u001b[38;5;124m already exists\u001b[39m\u001b[38;5;124m'\u001b[39m \u001b[38;5;241m%\u001b[39m register\u001b[38;5;241m.\u001b[39mname)\n\u001b[1;32m   1451\u001b[0m     \u001b[38;5;28;01mif\u001b[39;00m \u001b[38;5;28misinstance\u001b[39m(register, AncillaRegister):\n\u001b[1;32m   1452\u001b[0m         \u001b[38;5;28;01mfor\u001b[39;00m bit \u001b[38;5;129;01min\u001b[39;00m register:\n",
      "\u001b[0;31mCircuitError\u001b[0m: 'register name \"Bob b\" already exists'"
     ]
    }
   ],
   "source": [
    "#Bob's actions \n",
    "test.cx(ebit0, ebit1)\n",
    "test.h(ebit0)\n",
    "test.barrier()\n",
    "\n",
    "Bob_a = ClassicalRegister(1, \"Bob a\")\n",
    "Bob_b = ClassicalRegister(1, \"Bob b\")\n",
    "test.add_register(Bob_b)\n",
    "test.add_register(Bob_a)\n",
    "test.measure(ebit1, Bob_a)\n",
    "test.measure(ebit0, Bob_b)\n",
    "\n",
    "test.draw()\n"
   ]
  },
  {
   "cell_type": "code",
   "execution_count": 17,
   "id": "09bd16dd-6855-4581-ba79-b82d42a5befc",
   "metadata": {},
   "outputs": [
    {
     "data": {
      "image/png": "[encoded data removed]",
      "text/plain": [
       "<Figure size 700x500 with 1 Axes>"
      ]
     },
     "execution_count": 17,
     "metadata": {},
     "output_type": "execute_result"
    }
   ],
   "source": [
    "from qiskit_aer import AerSimulator\n",
    "from qiskit.visualization import plot_histogram\n",
    "\n",
    "counts = AerSimulator().run(test).result().get_counts()\n",
    "plot_histogram(counts)"
   ]
  },
  {
   "cell_type": "code",
   "execution_count": null,
   "id": "5eba398e-b770-4663-818f-dc8da672425d",
   "metadata": {},
   "outputs": [],
   "source": []
  }
 ],
 "metadata": {
  "kernelspec": {
   "display_name": "Python 3 (ipykernel)",
   "language": "python",
   "name": "python3"
  },
  "language_info": {
   "codemirror_mode": {
    "name": "ipython",
    "version": 3
   },
   "file_extension": ".py",
   "mimetype": "text/x-python",
   "name": "python",
   "nbconvert_exporter": "python",
   "pygments_lexer": "ipython3",
   "version": "3.9.6"
  }
 },
 "nbformat": 4,
 "nbformat_minor": 5
}
