{
 "cells": [
  {
   "cell_type": "code",
   "execution_count": 1,
   "id": "5d3115d8-949d-466a-bebd-817a465cd408",
   "metadata": {},
   "outputs": [
    {
     "data": {
      "text/html": [
       "<pre style=\"word-wrap: normal;white-space: pre;background: #fff0;line-height: 1.1;font-family: &quot;Courier New&quot;,Courier,monospace\">   ┌───┐┌───┐┌───┐┌───┐\n",
       "q: ┤ H ├┤ S ├┤ H ├┤ T ├\n",
       "   └───┘└───┘└───┘└───┘</pre>"
      ],
      "text/plain": [
       "   ┌───┐┌───┐┌───┐┌───┐\n",
       "q: ┤ H ├┤ S ├┤ H ├┤ T ├\n",
       "   └───┘└───┘└───┘└───┘"
      ]
     },
     "execution_count": 1,
     "metadata": {},
     "output_type": "execute_result"
    }
   ],
   "source": [
    "from qiskit import QuantumCircuit\n",
    "circuit = QuantumCircuit(1)\n",
    "circuit.h(0)\n",
    "circuit.s(0)\n",
    "circuit.h(0)\n",
    "circuit.t(0)\n",
    "circuit.draw()"
   ]
  },
  {
   "cell_type": "code",
   "execution_count": 11,
   "id": "74b0e155-6541-4f8b-b98f-5a2889808d01",
   "metadata": {},
   "outputs": [
    {
     "data": {
      "text/html": [
       "<pre style=\"word-wrap: normal;white-space: pre;background: #fff0;line-height: 1.1;font-family: &quot;Courier New&quot;,Courier,monospace\">      ┌───┐┌───┐┌───┐┌───┐\n",
       "Phat: ┤ H ├┤ S ├┤ H ├┤ T ├\n",
       "      └───┘└───┘└───┘└───┘</pre>"
      ],
      "text/plain": [
       "      ┌───┐┌───┐┌───┐┌───┐\n",
       "Phat: ┤ H ├┤ S ├┤ H ├┤ T ├\n",
       "      └───┘└───┘└───┘└───┘"
      ]
     },
     "execution_count": 11,
     "metadata": {},
     "output_type": "execute_result"
    }
   ],
   "source": [
    "from qiskit import QuantumCircuit, QuantumRegister\n",
    "X = QuantumRegister(1, \"Phat\")\n",
    "circuit = QuantumCircuit(X)\n",
    "circuit.h(X)\n",
    "circuit.s(X)\n",
    "circuit.h(X)\n",
    "circuit.t(X)\n",
    "circuit.draw()"
   ]
  },
  {
   "cell_type": "code",
   "execution_count": 12,
   "id": "31e4e5ce-f2a6-461a-bf58-fb5274a9e8a2",
   "metadata": {},
   "outputs": [
    {
     "data": {
      "text/html": [
       "<pre style=\"word-wrap: normal;white-space: pre;background: #fff0;line-height: 1.1;font-family: &quot;Courier New&quot;,Courier,monospace\">     ┌───┐     ┌─┐   \n",
       "  y: ┤ H ├──■──┤M├───\n",
       "     └───┘┌─┴─┐└╥┘┌─┐\n",
       "  x: ─────┤ X ├─╫─┤M├\n",
       "          └───┘ ║ └╥┘\n",
       "b: 1/═══════════╩══╬═\n",
       "                0  ║ \n",
       "a: 1/══════════════╩═\n",
       "                   0 </pre>"
      ],
      "text/plain": [
       "     ┌───┐     ┌─┐   \n",
       "  y: ┤ H ├──■──┤M├───\n",
       "     └───┘┌─┴─┐└╥┘┌─┐\n",
       "  x: ─────┤ X ├─╫─┤M├\n",
       "          └───┘ ║ └╥┘\n",
       "b: 1/═══════════╩══╬═\n",
       "                0  ║ \n",
       "a: 1/══════════════╩═\n",
       "                   0 "
      ]
     },
     "execution_count": 12,
     "metadata": {},
     "output_type": "execute_result"
    }
   ],
   "source": [
    "#implement of this circuit using Qiskit \n",
    "from qiskit import QuantumCircuit, QuantumRegister, ClassicalRegister\n",
    "X = QuantumRegister(1, \"x\")\n",
    "Y = QuantumRegister(1, \"y\")\n",
    "A = ClassicalRegister(1, \"a\")\n",
    "B = ClassicalRegister(1, \"b\")\n",
    "circuit = QuantumCircuit(Y, X, B, A)\n",
    "circuit.h(Y)\n",
    "circuit.cx(Y, X)\n",
    "\n",
    "circuit.measure(Y, B)\n",
    "circuit.measure(X, A)\n",
    "circuit.draw()"
   ]
  },
  {
   "cell_type": "code",
   "execution_count": 13,
   "id": "a4c51e24-091c-4676-b378-e36bf690ae03",
   "metadata": {},
   "outputs": [
    {
     "data": {
      "image/png": "[encoded data removed]",
      "text/plain": [
       "<Figure size 700x500 with 1 Axes>"
      ]
     },
     "execution_count": 13,
     "metadata": {},
     "output_type": "execute_result"
    }
   ],
   "source": [
    "from qiskit import transpile\n",
    "from qiskit.visualization import plot_histogram\n",
    "from qiskit_aer import AerSimulator\n",
    "\n",
    "simulator = AerSimulator()\n",
    "circuit_simulator = simulator.run(transpile(circuit,simulator), shots=1000)\n",
    "statistics = circuit_simulator.result().get_counts()\n",
    "plot_histogram(statistics)"
   ]
  },
  {
   "cell_type": "code",
   "execution_count": 14,
   "id": "0bf897d7-e826-4d31-bc90-3111e612ec82",
   "metadata": {},
   "outputs": [
    {
     "data": {
      "text/html": [
       "<pre style=\"word-wrap: normal;white-space: pre;background: #fff0;line-height: 1.1;font-family: &quot;Courier New&quot;,Courier,monospace\">              ░      ┌───┐ ░    ┌─┐ ░                         \n",
       "Q: ───────────░───■──┤ H ├─░────┤M├─░─────────────────────────\n",
       "   ┌───┐      ░ ┌─┴─┐└───┘ ░ ┌─┐└╥┘ ░                         \n",
       "A: ┤ H ├──■───░─┤ X ├──────░─┤M├─╫──░─────────────────────────\n",
       "   └───┘┌─┴─┐ ░ └───┘      ░ └╥┘ ║  ░ ┌──────────┐┌──────────┐\n",
       "B: ─────┤ X ├─░────────────░──╫──╫──░─┤0         ├┤0         ├\n",
       "        └───┘ ░            ░  ║  ║  ░ │  If_else ││          │\n",
       "a: ═══════════════════════════╩══╬════╡0         ╞╡          ╞\n",
       "                                 ║    └──────────┘│          │\n",
       "b: ══════════════════════════════╩════════════════╡0         ╞\n",
       "                                                  └──────────┘</pre>"
      ],
      "text/plain": [
       "              ░      ┌───┐ ░    ┌─┐ ░                         \n",
       "Q: ───────────░───■──┤ H ├─░────┤M├─░─────────────────────────\n",
       "   ┌───┐      ░ ┌─┴─┐└───┘ ░ ┌─┐└╥┘ ░                         \n",
       "A: ┤ H ├──■───░─┤ X ├──────░─┤M├─╫──░─────────────────────────\n",
       "   └───┘┌─┴─┐ ░ └───┘      ░ └╥┘ ║  ░ ┌──────────┐┌──────────┐\n",
       "B: ─────┤ X ├─░────────────░──╫──╫──░─┤0         ├┤0         ├\n",
       "        └───┘ ░            ░  ║  ║  ░ │  If_else ││          │\n",
       "a: ═══════════════════════════╩══╬════╡0         ╞╡          ╞\n",
       "                                 ║    └──────────┘│          │\n",
       "b: ══════════════════════════════╩════════════════╡0         ╞\n",
       "                                                  └──────────┘"
      ]
     },
     "execution_count": 14,
     "metadata": {},
     "output_type": "execute_result"
    }
   ],
   "source": [
    "from qiskit import QuantumCircuit, QuantumRegister, ClassicalRegister\n",
    "qubit = QuantumRegister(1, \"Q\")\n",
    "ebit0 = QuantumRegister(1, \"A\")\n",
    "ebit1 = QuantumRegister(1, \"B\")\n",
    "a = ClassicalRegister(1, \"a\")\n",
    "b = ClassicalRegister(1, \"b\")\n",
    "\n",
    "protocol = QuantumCircuit(qubit, ebit0, ebit1, a, b)\n",
    "\n",
    "# Prepare ebit used for teleportation\n",
    "protocol.h(ebit0)\n",
    "protocol.cx(ebit0, ebit1)\n",
    "protocol.barrier()\n",
    "\n",
    "# Alice's operations\n",
    "protocol.cx(qubit, ebit0)\n",
    "protocol.h(qubit)\n",
    "protocol.barrier()\n",
    "\n",
    "# Alice measures and sends classical bits to Bob\n",
    "protocol.measure(ebit0, a)\n",
    "protocol.measure(qubit, b)\n",
    "protocol.barrier()\n",
    "\n",
    "# Bob uses the classical bits to conditionally apply gates\n",
    "with protocol.if_test((a, 1)):\n",
    "    protocol.x(ebit1)\n",
    "with protocol.if_test((b, 1)):\n",
    "    protocol.z(ebit1)\n",
    "\n",
    "protocol.draw()"
   ]
  },
  {
   "cell_type": "code",
   "execution_count": 16,
   "id": "12dd5b32-bcc4-4970-be23-fa75478af81c",
   "metadata": {},
   "outputs": [
    {
     "data": {
      "text/html": [
       "<pre style=\"word-wrap: normal;white-space: pre;background: #fff0;line-height: 1.1;font-family: &quot;Courier New&quot;,Courier,monospace\">             ┌───┐      ░                                                »\n",
       "          R: ┤ H ├──■───░────────────────────────────────────────────────»\n",
       "             └───┘┌─┴─┐ ░            ░      ┌───┐ ░    ┌─┐ ░             »\n",
       "          Q: ─────┤ X ├─░────────────░───■──┤ H ├─░────┤M├─░─────────────»\n",
       "                  └───┘ ░ ┌───┐      ░ ┌─┴─┐└───┘ ░ ┌─┐└╥┘ ░             »\n",
       "          A: ───────────░─┤ H ├──■───░─┤ X ├──────░─┤M├─╫──░─────────────»\n",
       "                        ░ └───┘┌─┴─┐ ░ └───┘      ░ └╥┘ ║  ░ ┌──────────┐»\n",
       "          B: ───────────░──────┤ X ├─░────────────░──╫──╫──░─┤0         ├»\n",
       "                        ░      └───┘ ░            ░  ║  ║  ░ │  If_else │»\n",
       "          a: ════════════════════════════════════════╩══╬════╡0         ╞»\n",
       "                                                        ║    └──────────┘»\n",
       "          b: ═══════════════════════════════════════════╩════════════════»\n",
       "                                                                         »\n",
       "Test result: ════════════════════════════════════════════════════════════»\n",
       "                                                                         »\n",
       "«                          ░      ┌───┐┌─┐\n",
       "«          R: ─────────────░───■──┤ H ├┤M├\n",
       "«                          ░   │  └───┘└╥┘\n",
       "«          Q: ─────────────░───┼────────╫─\n",
       "«                          ░   │        ║ \n",
       "«          A: ─────────────░───┼────────╫─\n",
       "«             ┌──────────┐ ░ ┌─┴─┐      ║ \n",
       "«          B: ┤0         ├─░─┤ X ├──────╫─\n",
       "«             │          │ ░ └───┘      ║ \n",
       "«          a: ╡          ╞══════════════╬═\n",
       "«             │          │              ║ \n",
       "«          b: ╡0         ╞══════════════╬═\n",
       "«             └──────────┘              ║ \n",
       "«Test result: ══════════════════════════╩═\n",
       "«                                         </pre>"
      ],
      "text/plain": [
       "             ┌───┐      ░                                                »\n",
       "          R: ┤ H ├──■───░────────────────────────────────────────────────»\n",
       "             └───┘┌─┴─┐ ░            ░      ┌───┐ ░    ┌─┐ ░             »\n",
       "          Q: ─────┤ X ├─░────────────░───■──┤ H ├─░────┤M├─░─────────────»\n",
       "                  └───┘ ░ ┌───┐      ░ ┌─┴─┐└───┘ ░ ┌─┐└╥┘ ░             »\n",
       "          A: ───────────░─┤ H ├──■───░─┤ X ├──────░─┤M├─╫──░─────────────»\n",
       "                        ░ └───┘┌─┴─┐ ░ └───┘      ░ └╥┘ ║  ░ ┌──────────┐»\n",
       "          B: ───────────░──────┤ X ├─░────────────░──╫──╫──░─┤0         ├»\n",
       "                        ░      └───┘ ░            ░  ║  ║  ░ │  If_else │»\n",
       "          a: ════════════════════════════════════════╩══╬════╡0         ╞»\n",
       "                                                        ║    └──────────┘»\n",
       "          b: ═══════════════════════════════════════════╩════════════════»\n",
       "                                                                         »\n",
       "Test result: ════════════════════════════════════════════════════════════»\n",
       "                                                                         »\n",
       "«                          ░      ┌───┐┌─┐\n",
       "«          R: ─────────────░───■──┤ H ├┤M├\n",
       "«                          ░   │  └───┘└╥┘\n",
       "«          Q: ─────────────░───┼────────╫─\n",
       "«                          ░   │        ║ \n",
       "«          A: ─────────────░───┼────────╫─\n",
       "«             ┌──────────┐ ░ ┌─┴─┐      ║ \n",
       "«          B: ┤0         ├─░─┤ X ├──────╫─\n",
       "«             │          │ ░ └───┘      ║ \n",
       "«          a: ╡          ╞══════════════╬═\n",
       "«             │          │              ║ \n",
       "«          b: ╡0         ╞══════════════╬═\n",
       "«             └──────────┘              ║ \n",
       "«Test result: ══════════════════════════╩═\n",
       "«                                         "
      ]
     },
     "execution_count": 16,
     "metadata": {},
     "output_type": "execute_result"
    }
   ],
   "source": [
    "# Create a new circuit including the same bits and qubits used in the\n",
    "# teleportation protocol, along with a new \"auxiliary\" qubit R.\n",
    "aux = QuantumRegister(1, \"R\")\n",
    "test = QuantumCircuit(aux, qubit, ebit0, ebit1, a, b)\n",
    "\n",
    "# Entangle Q with R\n",
    "test.h(aux)\n",
    "test.cx(aux, qubit)\n",
    "test.barrier()\n",
    "\n",
    "# Append the protocol the circuit. The 'qubits' argument tells Qiskit that\n",
    "# the protocol should operate on the qubits numbered 1, 2, and 3 (skipping\n",
    "# qubit 0, which is R).\n",
    "test = test.compose(protocol, qubits=[1, 2, 3])\n",
    "test.barrier()\n",
    "\n",
    "# After the protocol runs, check that (B,R) is in a phi+ state. We can add\n",
    "# a new classical bit to the circuit to do this.\n",
    "test.cx(aux, ebit1)\n",
    "test.h(aux)\n",
    "result = ClassicalRegister(1, \"Test result\")\n",
    "test.add_register(result)\n",
    "test.measure(aux, result)\n",
    "\n",
    "test.draw()"
   ]
  },
  {
   "cell_type": "code",
   "execution_count": 17,
   "id": "f320ebd7-2666-4bd5-973a-e6a92a195be5",
   "metadata": {},
   "outputs": [
    {
     "data": {
      "image/png": "[encoded data removed]",
      "text/plain": [
       "<Figure size 700x500 with 1 Axes>"
      ]
     },
     "execution_count": 17,
     "metadata": {},
     "output_type": "execute_result"
    }
   ],
   "source": [
    "from qiskit_aer import AerSimulator\n",
    "from qiskit.visualization import plot_histogram\n",
    "\n",
    "counts = AerSimulator().run(test).result().get_counts()\n",
    "plot_histogram(counts)"
   ]
  },
  {
   "cell_type": "code",
   "execution_count": 18,
   "id": "0dbef016-679f-4cc8-950c-d384f42ed407",
   "metadata": {},
   "outputs": [
    {
     "data": {
      "image/png": "[encoded data removed]",
      "text/plain": [
       "<Figure size 700x500 with 1 Axes>"
      ]
     },
     "execution_count": 18,
     "metadata": {},
     "output_type": "execute_result"
    }
   ],
   "source": [
    "filtered_counts = {\"0\": 0, \"1\": 0}\n",
    "\n",
    "for result, frequency in counts.items():\n",
    "    filtered_counts[result[0] ] += frequency\n",
    "\n",
    "plot_histogram(filtered_counts)"
   ]
  },
  {
   "cell_type": "code",
   "execution_count": 19,
   "id": "d8d44a2d-ae7e-4543-a9bb-b581fbfa9caf",
   "metadata": {},
   "outputs": [
    {
     "data": {
      "text/html": [
       "<pre style=\"word-wrap: normal;white-space: pre;background: #fff0;line-height: 1.1;font-family: &quot;Courier New&quot;,Courier,monospace\">        ┌───┐      ░  ░      ┌───┐ ░ ┌─┐   \n",
       "   q_0: ┤ H ├──■───░──░───■──┤ H ├─░─┤M├───\n",
       "        └───┘┌─┴─┐ ░  ░ ┌─┴─┐└───┘ ░ └╥┘┌─┐\n",
       "   q_1: ─────┤ X ├─░──░─┤ X ├──────░──╫─┤M├\n",
       "             └───┘ ░  ░ └───┘      ░  ║ └╥┘\n",
       "meas: 2/══════════════════════════════╩══╩═\n",
       "                                      0  1 </pre>"
      ],
      "text/plain": [
       "        ┌───┐      ░  ░      ┌───┐ ░ ┌─┐   \n",
       "   q_0: ┤ H ├──■───░──░───■──┤ H ├─░─┤M├───\n",
       "        └───┘┌─┴─┐ ░  ░ ┌─┴─┐└───┘ ░ └╥┘┌─┐\n",
       "   q_1: ─────┤ X ├─░──░─┤ X ├──────░──╫─┤M├\n",
       "             └───┘ ░  ░ └───┘      ░  ║ └╥┘\n",
       "meas: 2/══════════════════════════════╩══╩═\n",
       "                                      0  1 "
      ]
     },
     "execution_count": 19,
     "metadata": {},
     "output_type": "execute_result"
    }
   ],
   "source": [
    "from qiskit import QuantumCircuit\n",
    "\n",
    "protocol = QuantumCircuit(2)\n",
    "\n",
    "# Prepare ebit used for superdense coding\n",
    "protocol.h(0)\n",
    "protocol.cx(0, 1)\n",
    "protocol.barrier()\n",
    "\n",
    "# Alice's operations\n",
    "\n",
    "if b == \"1\":\n",
    "    protocol.z(0)\n",
    "if a == \"1\":\n",
    "    protocol.x(0)\n",
    "protocol.barrier()\n",
    "\n",
    "# Bob's actions\n",
    "protocol.cx(0, 1)\n",
    "protocol.h(0)\n",
    "protocol.measure_all()\n",
    "\n",
    "protocol.draw()"
   ]
  },
  {
   "cell_type": "code",
   "execution_count": 20,
   "id": "8e05dbe8-77e2-4456-8b5d-4b83a594a349",
   "metadata": {},
   "outputs": [
    {
     "name": "stdout",
     "output_type": "stream",
     "text": [
      "Measured 00 with frequency 1024\n"
     ]
    },
    {
     "data": {
      "image/png": "[encoded data removed]",
      "text/plain": [
       "<Figure size 700x500 with 1 Axes>"
      ]
     },
     "execution_count": 20,
     "metadata": {},
     "output_type": "execute_result"
    }
   ],
   "source": [
    "from qiskit_aer import AerSimulator\n",
    "from qiskit.visualization import plot_histogram\n",
    "\n",
    "counts = AerSimulator().run(protocol).result().get_counts()\n",
    "for outcome, frequency in counts.items():\n",
    "    print(f\"Measured {outcome} with frequency {frequency}\")\n",
    "plot_histogram(counts)"
   ]
  },
  {
   "cell_type": "code",
   "execution_count": 21,
   "id": "1c92abbc-4d01-4f3d-9275-6c04d396a429",
   "metadata": {},
   "outputs": [
    {
     "data": {
      "text/html": [
       "<pre style=\"word-wrap: normal;white-space: pre;background: #fff0;line-height: 1.1;font-family: &quot;Courier New&quot;,Courier,monospace\">                       ░ ┌───┐┌─┐┌───┐┌─┐ ░              ░            ░       \n",
       "randomizer: ───────────░─┤ H ├┤M├┤ H ├┤M├─░──────────────░────────────░───────\n",
       "            ┌───┐      ░ └───┘└╥┘└───┘└╥┘ ░ ┌────┐┌────┐ ░      ┌───┐ ░    ┌─┐\n",
       "         A: ┤ H ├──■───░───────╫───────╫──░─┤0   ├┤0   ├─░───■──┤ H ├─░────┤M├\n",
       "            └───┘┌─┴─┐ ░       ║       ║  ░ │    ││    │ ░ ┌─┴─┐└───┘ ░ ┌─┐└╥┘\n",
       "         B: ─────┤ X ├─░───────╫───────╫──░─┤  Z ├┤    ├─░─┤ X ├──────░─┤M├─╫─\n",
       "                 └───┘ ░       ║       ║  ░ │    ││  X │ ░ └───┘      ░ └╥┘ ║ \n",
       "   Alice b: ═══════════════════╬═══════╩════╡0   ╞╡    ╞═════════════════╬══╬═\n",
       "                               ║            └────┘│    │                 ║  ║ \n",
       "   Alice a: ═══════════════════╩══════════════════╡0   ╞═════════════════╬══╬═\n",
       "                                                  └────┘                 ║  ║ \n",
       "     Bob b: ═════════════════════════════════════════════════════════════╬══╩═\n",
       "                                                                         ║    \n",
       "     Bob a: ═════════════════════════════════════════════════════════════╩════\n",
       "                                                                              </pre>"
      ],
      "text/plain": [
       "                       ░ ┌───┐┌─┐┌───┐┌─┐ ░              ░            ░       \n",
       "randomizer: ───────────░─┤ H ├┤M├┤ H ├┤M├─░──────────────░────────────░───────\n",
       "            ┌───┐      ░ └───┘└╥┘└───┘└╥┘ ░ ┌────┐┌────┐ ░      ┌───┐ ░    ┌─┐\n",
       "         A: ┤ H ├──■───░───────╫───────╫──░─┤0   ├┤0   ├─░───■──┤ H ├─░────┤M├\n",
       "            └───┘┌─┴─┐ ░       ║       ║  ░ │    ││    │ ░ ┌─┴─┐└───┘ ░ ┌─┐└╥┘\n",
       "         B: ─────┤ X ├─░───────╫───────╫──░─┤  Z ├┤    ├─░─┤ X ├──────░─┤M├─╫─\n",
       "                 └───┘ ░       ║       ║  ░ │    ││  X │ ░ └───┘      ░ └╥┘ ║ \n",
       "   Alice b: ═══════════════════╬═══════╩════╡0   ╞╡    ╞═════════════════╬══╬═\n",
       "                               ║            └────┘│    │                 ║  ║ \n",
       "   Alice a: ═══════════════════╩══════════════════╡0   ╞═════════════════╬══╬═\n",
       "                                                  └────┘                 ║  ║ \n",
       "     Bob b: ═════════════════════════════════════════════════════════════╬══╩═\n",
       "                                                                         ║    \n",
       "     Bob a: ═════════════════════════════════════════════════════════════╩════\n",
       "                                                                              "
      ]
     },
     "execution_count": 21,
     "metadata": {},
     "output_type": "execute_result"
    }
   ],
   "source": [
    "from qiskit import QuantumCircuit\n",
    "\n",
    "rbg = QuantumRegister(1, \"randomizer\")\n",
    "ebit0 = QuantumRegister(1, \"A\")\n",
    "ebit1 = QuantumRegister(1, \"B\")\n",
    "\n",
    "Alice_a = ClassicalRegister(1, \"Alice a\")\n",
    "Alice_b = ClassicalRegister(1, \"Alice b\")\n",
    "\n",
    "test = QuantumCircuit(rbg, ebit0, ebit1, Alice_b, Alice_a)\n",
    "\n",
    "# Initialize the ebit\n",
    "test.h(ebit0)\n",
    "test.cx(ebit0, ebit1)\n",
    "test.barrier()\n",
    "\n",
    "# Use the 'randomizer' qubit twice to generate Alice's bits a and b.\n",
    "test.h(rbg)\n",
    "test.measure(rbg, Alice_a)\n",
    "test.h(rbg)\n",
    "test.measure(rbg, Alice_b)\n",
    "test.barrier()\n",
    "\n",
    "# Now the protocol runs, starting with Alice's actions, which depend\n",
    "# on her bits.\n",
    "with test.if_test((Alice_b, 1), label=\"Z\"):\n",
    "    test.z(ebit0)\n",
    "with test.if_test((Alice_a, 1), label=\"X\"):\n",
    "    test.x(ebit0)\n",
    "test.barrier()\n",
    "\n",
    "# Bob's actions\n",
    "test.cx(ebit0, ebit1)\n",
    "test.h(ebit0)\n",
    "test.barrier()\n",
    "\n",
    "Bob_a = ClassicalRegister(1, \"Bob a\")\n",
    "Bob_b = ClassicalRegister(1, \"Bob b\")\n",
    "test.add_register(Bob_b)\n",
    "test.add_register(Bob_a)\n",
    "test.measure(ebit1, Bob_a)\n",
    "test.measure(ebit0, Bob_b)\n",
    "\n",
    "test.draw()"
   ]
  },
  {
   "cell_type": "code",
   "execution_count": 22,
   "id": "7ab9f883-3fa9-4ba2-8014-5f5e62293d32",
   "metadata": {},
   "outputs": [
    {
     "data": {
      "image/png": "[encoded data removed]",
      "text/plain": [
       "<Figure size 700x500 with 1 Axes>"
      ]
     },
     "execution_count": 22,
     "metadata": {},
     "output_type": "execute_result"
    }
   ],
   "source": [
    "from qiskit_aer import AerSimulator\n",
    "from qiskit.visualization import plot_histogram\n",
    "\n",
    "counts = AerSimulator().run(test).result().get_counts()\n",
    "plot_histogram(counts)\n"
   ]
  },
  {
   "cell_type": "code",
   "execution_count": null,
   "id": "20f296d5-c234-4025-8d86-c6be066d74d9",
   "metadata": {},
   "outputs": [],
   "source": []
  }
 ],
 "metadata": {
  "kernelspec": {
   "display_name": "Python 3 (ipykernel)",
   "language": "python",
   "name": "python3"
  },
  "language_info": {
   "codemirror_mode": {
    "name": "ipython",
    "version": 3
   },
   "file_extension": ".py",
   "mimetype": "text/x-python",
   "name": "python",
   "nbconvert_exporter": "python",
   "pygments_lexer": "ipython3",
   "version": "3.9.6"
  }
 },
 "nbformat": 4,
 "nbformat_minor": 5
}
