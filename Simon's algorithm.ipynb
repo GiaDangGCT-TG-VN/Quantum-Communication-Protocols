{
 "cells": [
  {
   "cell_type": "code",
   "execution_count": 11,
   "id": "a227a93c-8f03-419b-8ae0-f3ff2fdea75d",
   "metadata": {},
   "outputs": [],
   "source": [
    "# import random\n",
    "import qiskit.quantum_info as qi\n",
    "from qiskit import QuantumCircuit\n",
    "import numpy as np\n",
    "\n",
    "def simon_function(s: str):\n",
    "    \"\"\"\n",
    "    Create a QuantumCircuit implementing a query gate for Simon problem obeying the promise for the hidden string `s`\n",
    "    \"\"\"\n",
    "    # Our quantum circuit has 2n qubits for n = len(s)\n",
    "    n = len(s)\n",
    "    qc = QuantumCircuit(2*n)\n",
    "    \n",
    "    # Define a random permutation of all n bit strings. This permutation will effectively hide the string s.\n",
    "    pi = np.random.permutation(2**n)\n",
    "    \n",
    "    # Now we'll define a query gate explicitly. The idea is to first define a function g(x) = min{x,x ^ s}, which\n",
    "    # is a simple function that satisfies the promise, and then we take f to be the composition of g and the random\n",
    "    # permutation pi. This gives us a random function satisfying the promise for s.\n",
    "    \n",
    "    query_gate = np.zeros((4**n,4**n))\n",
    "    for x in range(2**n):\n",
    "        for y in range(2**n):              \n",
    "            z = y ^ pi[min(x,x ^ int(s,2))]\n",
    "            query_gate[x + 2**n *z, x + 2**n *y] = 1        \n",
    "\n",
    "    # Our circuit has just this one query gate\n",
    "    qc.unitary(query_gate,range(2*n))\n",
    "    return qc"
   ]
  },
  {
   "cell_type": "code",
   "execution_count": 12,
   "id": "0456f961-ec40-4b5c-a9f9-6396a7c584e3",
   "metadata": {},
   "outputs": [],
   "source": [
    "# we will define a function that runs the circuit in Simon's problem K times and report the result \n",
    "from qiskit_aer import AerSimulator\n",
    "from qiskit import ClassicalRegister\n",
    "\n",
    "def simon_measurements(problem: QuantumCircuit, k: int):\n",
    "    \"\"\"\n",
    "    Quantum part of Simon's algorithm. Given a `QuantumCircuit` that\n",
    "    implements f, get `k` measurements to be post-processed later.\n",
    "    \"\"\"\n",
    "    n = problem.num_qubits // 2\n",
    "\n",
    "    qc = QuantumCircuit(2*n,n)\n",
    "    qc.h(range(n))\n",
    "    qc.compose(problem, inplace=True)\n",
    "    qc.h(range(n))\n",
    "    qc.measure(range(n), range(n))\n",
    "    \n",
    "    result = AerSimulator().run(qc,shots=k,memory=True).result()\n",
    "    return result.get_memory()"
   ]
  },
  {
   "cell_type": "code",
   "execution_count": 13,
   "id": "b72f1a66-78fa-4f7c-abe9-44f61f35dce5",
   "metadata": {},
   "outputs": [
    {
     "data": {
      "text/plain": [
       "['00100',\n",
       " '11100',\n",
       " '01110',\n",
       " '00000',\n",
       " '10101',\n",
       " '11111',\n",
       " '11100',\n",
       " '01010',\n",
       " '01101',\n",
       " '00100',\n",
       " '11111',\n",
       " '01101']"
      ]
     },
     "execution_count": 13,
     "metadata": {},
     "output_type": "execute_result"
    }
   ],
   "source": [
    "simon_measurements(\n",
    "    simon_function('11011'),\n",
    "    k=12\n",
    ")"
   ]
  },
  {
   "cell_type": "code",
   "execution_count": 14,
   "id": "3f99c4d4-242f-4922-876b-c322182c1737",
   "metadata": {},
   "outputs": [
    {
     "ename": "ModuleNotFoundError",
     "evalue": "No module named 'galois'",
     "output_type": "error",
     "traceback": [
      "\u001b[0;31m---------------------------------------------------------------------------\u001b[0m",
      "\u001b[0;31mModuleNotFoundError\u001b[0m                       Traceback (most recent call last)",
      "Cell \u001b[0;32mIn[14], line 2\u001b[0m\n\u001b[1;32m      1\u001b[0m \u001b[38;5;28;01mimport\u001b[39;00m \u001b[38;5;21;01mnumpy\u001b[39;00m \u001b[38;5;28;01mas\u001b[39;00m \u001b[38;5;21;01mnp\u001b[39;00m\n\u001b[0;32m----> 2\u001b[0m \u001b[38;5;28;01mimport\u001b[39;00m \u001b[38;5;21;01mgalois\u001b[39;00m\n\u001b[1;32m      4\u001b[0m \u001b[38;5;28;01mdef\u001b[39;00m \u001b[38;5;21msimon_algorithm\u001b[39m(problem: QuantumCircuit):\n\u001b[1;32m      5\u001b[0m \u001b[38;5;250m    \u001b[39m\u001b[38;5;124;03m\"\"\"\u001b[39;00m\n\u001b[1;32m      6\u001b[0m \u001b[38;5;124;03m    Given a `QuantumCircuit` that implements a query gate for Simon problem, return the hidden string `s`.\u001b[39;00m\n\u001b[1;32m      7\u001b[0m \u001b[38;5;124;03m    \"\"\"\u001b[39;00m\n",
      "\u001b[0;31mModuleNotFoundError\u001b[0m: No module named 'galois'"
     ]
    }
   ],
   "source": [
    "import numpy as np\n",
    "import galois\n",
    "\n",
    "def simon_algorithm(problem: QuantumCircuit):\n",
    "    \"\"\"\n",
    "    Given a `QuantumCircuit` that implements a query gate for Simon problem, return the hidden string `s`.\n",
    "    \"\"\"\n",
    "    \n",
    "    # Quantum part: run the circuit defined previously k times and gather the measurement results.\n",
    "    # Replace +10 by +r for any nonnegative integer r depending on desired confidence.\n",
    "\n",
    "    measurements = simon_measurements(problem, k=problem.num_qubits // 2 + 10)\n",
    "    print('Measurement results:')\n",
    "    display(measurements)\n",
    "    \n",
    "    # Classical post-processing:\n",
    "    \n",
    "    # 1. Convert measurements of form '11101' to 2D-array of integers\n",
    "    matrix = np.array([list(bitstring) for bitstring in measurements]).astype(int)   \n",
    "    \n",
    "    # 2. Interpret matrix as using arithmetic mod 2, and find null space\n",
    "    null_space = galois.GF(2)(matrix).null_space()   \n",
    "    print('Null space:')\n",
    "    display(null_space)\n",
    "    \n",
    "    # 3. Convert back to a string\n",
    "    if len(null_space) == 0:\n",
    "        # No non-trivial solution; `s` is all-zeros\n",
    "        return '0'*len(measurements[0])\n",
    "    return ''.join(np.array(null_space[0]).astype(str))"
   ]
  },
  {
   "cell_type": "code",
   "execution_count": null,
   "id": "0b832f98-7c50-47a9-bf25-e188449e1f1a",
   "metadata": {},
   "outputs": [],
   "source": []
  }
 ],
 "metadata": {
  "kernelspec": {
   "display_name": "Python 3 (ipykernel)",
   "language": "python",
   "name": "python3"
  },
  "language_info": {
   "codemirror_mode": {
    "name": "ipython",
    "version": 3
   },
   "file_extension": ".py",
   "mimetype": "text/x-python",
   "name": "python",
   "nbconvert_exporter": "python",
   "pygments_lexer": "ipython3",
   "version": "3.9.6"
  }
 },
 "nbformat": 4,
 "nbformat_minor": 5
}
