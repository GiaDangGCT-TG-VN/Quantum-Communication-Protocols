{
 "cells": [
  {
   "cell_type": "code",
   "execution_count": 1,
   "id": "a1acfde8-b33f-453f-b98d-613e618aa0a7",
   "metadata": {},
   "outputs": [
    {
     "data": {
      "text/plain": [
       "{2: 2, 3: 1}"
      ]
     },
     "execution_count": 1,
     "metadata": {},
     "output_type": "execute_result"
    }
   ],
   "source": [
    "from sympy.ntheory import factorint \n",
    "N = 12 \n",
    "factorint(N)"
   ]
  },
  {
   "cell_type": "code",
   "execution_count": 4,
   "id": "b8bf5468-b90b-4440-a6e6-6639518fc3e7",
   "metadata": {},
   "outputs": [
    {
     "data": {
      "text/plain": [
       "{2: 7, 3: 1}"
      ]
     },
     "execution_count": 4,
     "metadata": {},
     "output_type": "execute_result"
    }
   ],
   "source": [
    "N = 384\n",
    "factorint(N)"
   ]
  },
  {
   "cell_type": "code",
   "execution_count": 5,
   "id": "84dfb539-b0f5-4bda-a714-62fabeea3750",
   "metadata": {},
   "outputs": [
    {
     "name": "stdout",
     "output_type": "stream",
     "text": [
      "135066410865995223349603216278805969938881475605667027524485143851526510604859533833940287150571909441798207282164471551373680419703964191743046496589274256239341020864383202110372958725762358509643110564073501508187510676594629205563685529475213500852879416377328533906109750544334999811150056977236890927563\n"
     ]
    }
   ],
   "source": [
    "RSA1024 = 135066410865995223349603216278805969938881475605667027524485143851526510604859533833940287150571909441798207282164471551373680419703964191743046496589274256239341020864383202110372958725762358509643110564073501508187510676594629205563685529475213500852879416377328533906109750544334999811150056977236890927563\n",
    "print(RSA1024)"
   ]
  },
  {
   "cell_type": "code",
   "execution_count": 6,
   "id": "4e176b74-6f01-450f-a4a9-85fd36d9a77a",
   "metadata": {},
   "outputs": [
    {
     "name": "stdout",
     "output_type": "stream",
     "text": [
      "True\n"
     ]
    }
   ],
   "source": [
    "RSA250 = 2140324650240744961264423072839333563008614715144755017797754920881418023447140136643345519095804679610992851872470914587687396261921557363047454770520805119056493106687691590019759405693457452230589325976697471681738069364894699871578494975937497937\n",
    "\n",
    "p = 64135289477071580278790190170577389084825014742943447208116859632024532344630238623598752668347708737661925585694639798853367\n",
    "q = 33372027594978156556226010605355114227940760344767554666784520987023841729210037080257448673296881877565718986258036932062711\n",
    "\n",
    "print(RSA250 == p*q)"
   ]
  },
  {
   "cell_type": "code",
   "execution_count": 7,
   "id": "ac2f7e28-2e6e-4356-946a-efbef091bedf",
   "metadata": {},
   "outputs": [
    {
     "data": {
      "text/plain": [
       "135066410865995223349603216278805969938881475605667027524485143851526510604859533833940287150571909441798207282164471551373680419703964191743046496589274256239341020864383202110372958725762358509643110564073501508187510676594629205563685529475213500852879416377328533906109750544334999811150056977236890927563"
      ]
     },
     "execution_count": 7,
     "metadata": {},
     "output_type": "execute_result"
    }
   ],
   "source": [
    "import math\n",
    "\n",
    "N = 4636759690183918349682239573236686632636353319755818421393667064929987310592347460711767784882455889983961546491666129915628431549982893638464243493812487979530329460863532041588297885958272943021122033997933550246447236884738870576045537199814804920281890355275625050796526864093092006894744790739778376848205654332434378295899591539239698896074\n",
    "M = 5056714874804877864225164843977749374751021379176083540426461360945653967249306494545888621353613218518084414930846655066495767441010526886803458300440345782982127522212209489410315422285463057656809702949608368597012967321172325810519806487247195259818074918082416290513738155834341957254558278151385588990304622183174568167973121179585331770773\n",
    "\n",
    "math.gcd(N,M)"
   ]
  },
  {
   "cell_type": "code",
   "execution_count": 8,
   "id": "b766dbec-dbbd-4bc6-bd13-3acc3d1c1f14",
   "metadata": {},
   "outputs": [
    {
     "data": {
      "text/plain": [
       "113"
      ]
     },
     "execution_count": 8,
     "metadata": {},
     "output_type": "execute_result"
    }
   ],
   "source": [
    "math.gcd(N**200 + 1 ,M**100 + M**2)"
   ]
  },
  {
   "cell_type": "code",
   "execution_count": 9,
   "id": "7a1be391-43d3-4efe-8e8c-fc945cc83391",
   "metadata": {},
   "outputs": [
    {
     "data": {
      "text/plain": [
       "5420808908959774060288987536719770456217318912094898225713892936909049029205875268391016773496273016272919329382669533127141405381618319955871147811133071683113976741106560564348611362839209748910974112799894385464900617664468329271717655067495341858822704829649579551724483155264208314048742469387847020407987537873027379036515942355206425576104942394452390040081069041858525217985044712018028991394635458870225358476099232040714610377672598679720015462702833934580459151626243131178465271884695260294198503010478207039551370657556801980546328939683389782893101937977023160027020824612118350981172299997784862364914426784395705304625946981620876565903630321426713564601636615003526450559450988257054265576673783996389684225946503950767764911765912500478971120407712043832726706539999202935732936820400534970855338294653369081634048804115320256182211145544094816107629124112742249226319353536843143250675559791743355892993051078488285292927178023438402583054839832109503781471596500072959107707020065782555861325253891174468479828455070701800024212593144971400832140786063620665224339027746048978496589265602430286475229240500730395030244167373760773225724090156004049352594635867027935465962414764456373585290956999305794964617561548270565216080421238370652518997421499178722058617256564053290758153841574743341020230723665105568383923335524981262395314837292291351213579853233800664543959697570668968932545105391200894345122403901126855808339292892144618034647640594129638891809347433516954054255735374114229687467253661509404329081038467536976485314005457794642793240728907716748113582623047896927299525364803461784339899349011331842366119834985254767022797817541982842136038797346045524543446837609691961446346898034481960162369906547207851740703325595273724313509866798139791862738941412435088490790473992542655256187359052648995226579813780101763700632784177318998593960123977376065188642849714402071821332656099246595192273548124579308954369379166791375504366177963367167357734204250134523901012053728414505662083719483277149998297345600850207968594611610502058119754052458059616153460321784141539990056380808571117172677389938997159425776949065037133138197247161115127659585109470076784212846689843449874294528288829117435818727532583190741742686601090580534050289592016761135679603364904072305569448382741870366244397396582565453282641402195407023981530691751496898222633942198230270907098913253995651978611545066193950188718245653197837791596426329560941347753939650429611447245577078846931722372616367550006355620360276455568080512099035179175416756143233950934214736621950039902506644221443998435341460452476466171419972558395644689971465747907674896790822097660307109062931957694684033978412952567599593488687529011526359106169809555979667401866723277931201510177630302133847932158278990312682334549377652520626935835739547712983314320798573894229076437190704856364396327795151484278956526648597260084828697308427169704251546673832583609705456575281533722178029103192256765343504645112826902073960223407989624481672668703972408414665894403347181679160774217536153364422436840721557202572348021932511877708639899866042064925150997870115610130091923308716372491505600234638328560252998561255435872867079194898819838898311502430190295512215594677576275248220954675704199712880196887650126401810574270118295619216693001247689245264372564423355830421087279204264834276290790089692636984198176930764597788529620410821188522782016777910796700483449826"
      ]
     },
     "execution_count": 9,
     "metadata": {},
     "output_type": "execute_result"
    }
   ],
   "source": [
    "K = 64135289477071580278790190170577389084825014742943447208116859632024532344630238623598752668347708737661925585694639798853367\n",
    "N = 4636759690183918349682239573236686632636353319755818421393667064929987310592347460711767784882455889983961546491666129915628431549982893638464243493812487979530329460863532041588297885958272943021122033997933550246447236884738870576045537199814804920281890355275625050796526864093092006894744790739778376848205654332434378295899591539239698896074\n",
    "M = 5056714874804877864225164843977749374751021379176083540426461360945653967249306494545888621353613218518084414930846655066495767441010526886803458300440345782982127522212209489410315422285463057656809702949608368597012967321172325810519806487247195259818074918082416290513738155834341957254558278151385588990304622183174568167973121179585331770773\n",
    "\n",
    "pow(N,K**10+1,M**10 + 1)"
   ]
  },
  {
   "cell_type": "code",
   "execution_count": 10,
   "id": "24a9c46c-b8bc-44f5-b0e9-6da484ee4e80",
   "metadata": {},
   "outputs": [
    {
     "data": {
      "text/html": [
       "<pre style=\"word-wrap: normal;white-space: pre;background: #fff0;line-height: 1.1;font-family: &quot;Courier New&quot;,Courier,monospace\">                                                       ┌───┐      \n",
       "q_0: ───────────────────■─────────────────────■────■───┤ T ├───■──\n",
       "                        │             ┌───┐   │  ┌─┴─┐┌┴───┴┐┌─┴─┐\n",
       "q_1: ───────■───────────┼─────────■───┤ T ├───┼──┤ X ├┤ Tdg ├┤ X ├\n",
       "     ┌───┐┌─┴─┐┌─────┐┌─┴─┐┌───┐┌─┴─┐┌┴───┴┐┌─┴─┐├───┤└┬───┬┘└───┘\n",
       "q_2: ┤ H ├┤ X ├┤ Tdg ├┤ X ├┤ T ├┤ X ├┤ Tdg ├┤ X ├┤ T ├─┤ H ├──────\n",
       "     └───┘└───┘└─────┘└───┘└───┘└───┘└─────┘└───┘└───┘ └───┘      </pre>"
      ],
      "text/plain": [
       "                                                       ┌───┐      \n",
       "q_0: ───────────────────■─────────────────────■────■───┤ T ├───■──\n",
       "                        │             ┌───┐   │  ┌─┴─┐┌┴───┴┐┌─┴─┐\n",
       "q_1: ───────■───────────┼─────────■───┤ T ├───┼──┤ X ├┤ Tdg ├┤ X ├\n",
       "     ┌───┐┌─┴─┐┌─────┐┌─┴─┐┌───┐┌─┴─┐┌┴───┴┐┌─┴─┐├───┤└┬───┬┘└───┘\n",
       "q_2: ┤ H ├┤ X ├┤ Tdg ├┤ X ├┤ T ├┤ X ├┤ Tdg ├┤ X ├┤ T ├─┤ H ├──────\n",
       "     └───┘└───┘└─────┘└───┘└───┘└───┘└─────┘└───┘└───┘ └───┘      "
      ]
     },
     "metadata": {},
     "output_type": "display_data"
    },
    {
     "data": {
      "text/latex": [
       "$$\n",
       "\n",
       "\\begin{bmatrix}\n",
       "1 & 0 & 0 & 0 & 0 & 0 & 0 & 0  \\\\\n",
       " 0 & 1 & 0 & 0 & 0 & 0 & 0 & 0  \\\\\n",
       " 0 & 0 & 1 & 0 & 0 & 0 & 0 & 0  \\\\\n",
       " 0 & 0 & 0 & 0 & 0 & 0 & 0 & 1  \\\\\n",
       " 0 & 0 & 0 & 0 & 1 & 0 & 0 & 0  \\\\\n",
       " 0 & 0 & 0 & 0 & 0 & 1 & 0 & 0  \\\\\n",
       " 0 & 0 & 0 & 0 & 0 & 0 & 1 & 0  \\\\\n",
       " 0 & 0 & 0 & 1 & 0 & 0 & 0 & 0  \\\\\n",
       " \\end{bmatrix}\n",
       "$$"
      ],
      "text/plain": [
       "<IPython.core.display.Latex object>"
      ]
     },
     "execution_count": 10,
     "metadata": {},
     "output_type": "execute_result"
    }
   ],
   "source": [
    "#Toffoli gates\n",
    "#offoli gates are not included in the default gate set discussed earlier in the lesson\n",
    "#but it is possible to construct a Tofolli gate from H,T,T unitary and CNOT gates \n",
    "\n",
    "from qiskit import QuantumCircuit \n",
    "from qiskit.quantum_info import Statevector, Operator\n",
    "from qiskit.visualization import array_to_latex\n",
    "\n",
    "Toffoli = QuantumCircuit(3)\n",
    "\n",
    "Toffoli.h(2)\n",
    "Toffoli.cx(1, 2)\n",
    "Toffoli.tdg(2)\n",
    "Toffoli.cx(0, 2)\n",
    "Toffoli.t(2)\n",
    "Toffoli.cx(1, 2)\n",
    "Toffoli.tdg(2)\n",
    "Toffoli.cx(0, 2)\n",
    "Toffoli.t(1)\n",
    "Toffoli.t(2)\n",
    "Toffoli.cx(0, 1)\n",
    "Toffoli.t(0)\n",
    "Toffoli.tdg(1)\n",
    "Toffoli.h(2)\n",
    "Toffoli.cx(0, 1)\n",
    "\n",
    "display(Toffoli.draw())\n",
    "U = Operator(Toffoli)\n",
    "\n",
    "array_to_latex(U)\n"
   ]
  },
  {
   "cell_type": "code",
   "execution_count": 5,
   "id": "b099899e-e1c2-475e-9065-3953e36ad18b",
   "metadata": {},
   "outputs": [
    {
     "data": {
      "text/latex": [
       "$$\n",
       "\n",
       "\\begin{bmatrix}\n",
       "\\frac{\\sqrt{2}}{2} & \\frac{\\sqrt{2}}{2}  \\\\\n",
       " \\frac{\\sqrt{2}}{2} & - \\frac{\\sqrt{2}}{2}  \\\\\n",
       " \\end{bmatrix}\n",
       "$$"
      ],
      "text/plain": [
       "<IPython.core.display.Latex object>"
      ]
     },
     "execution_count": 5,
     "metadata": {},
     "output_type": "execute_result"
    }
   ],
   "source": [
    "from qiskit.visualization import array_to_latex\n",
    "from qiskit.quantum_info import Statevector\n",
    "from qiskit.quantum_info.operators import Operator\n",
    "import math\n",
    "\n",
    "psi1 = Statevector([math.cos(math.pi/8),math.sin(math.pi/8)])\n",
    "psi2 = Statevector([math.cos(5*math.pi/8),math.sin(5*math.pi/8)])\n",
    "\n",
    "# When given a Statevector input, the Operator function returns the outer\n",
    "# product of that state vector with itself — or, in other words, the\n",
    "# product of the vector times its conjugate transpose.\n",
    "\n",
    "H = Operator(psi1) - Operator(psi2)\n",
    "array_to_latex(H)\n"
   ]
  },
  {
   "cell_type": "code",
   "execution_count": 9,
   "id": "ad0dddbb-82d3-462c-8d02-97a483e36044",
   "metadata": {},
   "outputs": [
    {
     "data": {
      "text/html": [
       "<pre style=\"word-wrap: normal;white-space: pre;background: #fff0;line-height: 1.1;font-family: &quot;Courier New&quot;,Courier,monospace\">           ░ ┌───┐          ┌───┐ ░ ┌─┐\n",
       "q_0: ──────░─┤ H ├─■────────┤ H ├─░─┤M├\n",
       "     ┌───┐ ░ └───┘ │P(8π/5) └───┘ ░ └╥┘\n",
       "q_1: ┤ X ├─░───────■──────────────░──╫─\n",
       "     └───┘ ░                      ░  ║ \n",
       "c: 1/════════════════════════════════╩═\n",
       "                                     0 </pre>"
      ],
      "text/plain": [
       "           ░ ┌───┐          ┌───┐ ░ ┌─┐\n",
       "q_0: ──────░─┤ H ├─■────────┤ H ├─░─┤M├\n",
       "     ┌───┐ ░ └───┘ │P(8π/5) └───┘ ░ └╥┘\n",
       "q_1: ┤ X ├─░───────■──────────────░──╫─\n",
       "     └───┘ ░                      ░  ║ \n",
       "c: 1/════════════════════════════════╩═\n",
       "                                     0 "
      ]
     },
     "execution_count": 9,
     "metadata": {},
     "output_type": "execute_result"
    }
   ],
   "source": [
    "from math import pi, cos, sin\n",
    "from qiskit import QuantumCircuit\n",
    "\n",
    "theta = 0.8 #Can be changed to any value between 0 and 1 \n",
    "\n",
    "qc = QuantumCircuit(2, 1)\n",
    "\n",
    "#Prepare eigenvector, which is the |1> state \n",
    "\n",
    "qc.x(1)\n",
    "qc.barrier()\n",
    "\n",
    "#implement the estimation procedure\n",
    "qc.h(0)\n",
    "qc.cp(2*pi*theta, 0, 1)\n",
    "qc.h(0)\n",
    "qc.barrier()\n",
    "\n",
    "#perform the final measurement \n",
    "qc.measure(0, 0)\n",
    "\n",
    "#draw the circuit\n",
    "qc.draw()"
   ]
  },
  {
   "cell_type": "code",
   "execution_count": 12,
   "id": "2bb7f981-817d-47c6-9ac9-36b89040f63c",
   "metadata": {},
   "outputs": [
    {
     "data": {
      "text/plain": [
       "SamplerResult(quasi_dists=[{0: 0.6545084971874734, 1: 0.3454915028125262}], metadata=[{}])"
      ]
     },
     "execution_count": 12,
     "metadata": {},
     "output_type": "execute_result"
    }
   ],
   "source": [
    "from qiskit.primitives import Sampler\n",
    "Sampler().run(qc).result()"
   ]
  },
  {
   "cell_type": "code",
   "execution_count": 13,
   "id": "a7d1ed11-4e27-4daa-83df-5050b3c5754f",
   "metadata": {},
   "outputs": [
    {
     "data": {
      "text/html": [
       "<pre style=\"word-wrap: normal;white-space: pre;background: #fff0;line-height: 1.1;font-family: &quot;Courier New&quot;,Courier,monospace\">           ░ ┌───┐ ░                       ░    ┌───┐                ░ ┌─┐   \n",
       "q_0: ──────░─┤ H ├─░──■────────────────────░──X─┤ H ├─■──────────────░─┤M├───\n",
       "           ░ ├───┤ ░  │                    ░  │ └───┘ │P(-π/2) ┌───┐ ░ └╥┘┌─┐\n",
       "q_1: ──────░─┤ H ├─░──┼─────────■──────────░──X───────■────────┤ H ├─░──╫─┤M├\n",
       "     ┌───┐ ░ └───┘ ░  │P(7π/5)  │P(14π/5)  ░                   └───┘ ░  ║ └╥┘\n",
       "q_2: ┤ X ├─░───────░──■─────────■──────────░─────────────────────────░──╫──╫─\n",
       "     └───┘ ░       ░                       ░                         ░  ║  ║ \n",
       "c: 2/═══════════════════════════════════════════════════════════════════╩══╩═\n",
       "                                                                        0  1 </pre>"
      ],
      "text/plain": [
       "           ░ ┌───┐ ░                       ░    ┌───┐                ░ ┌─┐   \n",
       "q_0: ──────░─┤ H ├─░──■────────────────────░──X─┤ H ├─■──────────────░─┤M├───\n",
       "           ░ ├───┤ ░  │                    ░  │ └───┘ │P(-π/2) ┌───┐ ░ └╥┘┌─┐\n",
       "q_1: ──────░─┤ H ├─░──┼─────────■──────────░──X───────■────────┤ H ├─░──╫─┤M├\n",
       "     ┌───┐ ░ └───┘ ░  │P(7π/5)  │P(14π/5)  ░                   └───┘ ░  ║ └╥┘\n",
       "q_2: ┤ X ├─░───────░──■─────────■──────────░─────────────────────────░──╫──╫─\n",
       "     └───┘ ░       ░                       ░                         ░  ║  ║ \n",
       "c: 2/═══════════════════════════════════════════════════════════════════╩══╩═\n",
       "                                                                        0  1 "
      ]
     },
     "execution_count": 13,
     "metadata": {},
     "output_type": "execute_result"
    }
   ],
   "source": [
    "from math import pi \n",
    "from qiskit import QuantumCircuit \n",
    "\n",
    "theta = .7 \n",
    "qc = QuantumCircuit(3, 2) \n",
    "\n",
    "#prepare the eigenvector \n",
    "qc.x(2)\n",
    "qc.barrier()\n",
    "\n",
    "#the initial hadamard gates\n",
    "qc.h(0)\n",
    "qc.h(1)\n",
    "qc.barrier()\n",
    "\n",
    "#the controlled unitary gates\n",
    "qc.cp(2*pi*theta,0,2)\n",
    "qc.cp(2*pi*(2*theta),1,2)\n",
    "qc.barrier()\n",
    "\n",
    "#An implementation of the inverse of the two-qubit QFT\n",
    "qc.swap(0,1)\n",
    "qc.h(0)\n",
    "qc.cp(-pi/2,0,1)\n",
    "qc.h(1)\n",
    "qc.barrier()\n",
    "\n",
    "#and finally the measurement \n",
    "qc.measure([0,1], [0,1])\n",
    "qc.draw()\n",
    "\n",
    "\n"
   ]
  },
  {
   "cell_type": "code",
   "execution_count": 14,
   "id": "05545cba-5c0c-4cbe-a88f-1e93d63cede6",
   "metadata": {},
   "outputs": [
    {
     "data": {
      "image/png": "[encoded data removed]",
      "text/plain": [
       "<Figure size 700x500 with 1 Axes>"
      ]
     },
     "execution_count": 14,
     "metadata": {},
     "output_type": "execute_result"
    }
   ],
   "source": [
    "from qiskit.visualization import plot_histogram\n",
    "result = Sampler().run(qc).result()\n",
    "plot_histogram(result.quasi_dists)"
   ]
  },
  {
   "cell_type": "code",
   "execution_count": null,
   "id": "1c86dcd6-3c06-4de0-bcde-7065490a98e9",
   "metadata": {},
   "outputs": [],
   "source": []
  }
 ],
 "metadata": {
  "kernelspec": {
   "display_name": "Python 3 (ipykernel)",
   "language": "python",
   "name": "python3"
  },
  "language_info": {
   "codemirror_mode": {
    "name": "ipython",
    "version": 3
   },
   "file_extension": ".py",
   "mimetype": "text/x-python",
   "name": "python",
   "nbconvert_exporter": "python",
   "pygments_lexer": "ipython3",
   "version": "3.9.6"
  }
 },
 "nbformat": 4,
 "nbformat_minor": 5
}
