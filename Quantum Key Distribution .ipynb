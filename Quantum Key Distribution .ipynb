{
 "cells": [
  {
   "cell_type": "code",
   "execution_count": 29,
   "id": "303f9a4e-ba2b-4dda-9b93-342fdab04ba2",
   "metadata": {},
   "outputs": [
    {
     "data": {
      "text/html": [
       "<pre style=\"word-wrap: normal;white-space: pre;background: #fff0;line-height: 1.1;font-family: &quot;Courier New&quot;,Courier,monospace\">     ┌───┐ ░ ┌───┐┌─┐\n",
       "  q: ┤ H ├─░─┤ H ├┤M├\n",
       "     └───┘ ░ └───┘└╥┘\n",
       "c: 1/══════════════╩═\n",
       "                   0 </pre>"
      ],
      "text/plain": [
       "     ┌───┐ ░ ┌───┐┌─┐\n",
       "  q: ┤ H ├─░─┤ H ├┤M├\n",
       "     └───┘ ░ └───┘└╥┘\n",
       "c: 1/══════════════╩═\n",
       "                   0 "
      ]
     },
     "metadata": {},
     "output_type": "display_data"
    },
    {
     "data": {
      "image/png": "[encoded data removed]",
      "text/plain": [
       "<Figure size 700x500 with 1 Axes>"
      ]
     },
     "execution_count": 29,
     "metadata": {},
     "output_type": "execute_result"
    }
   ],
   "source": [
    "from qiskit import QuantumCircuit, Aer, transpile \n",
    "from qiskit.visualization import plot_histogram, plot_bloch_multivector \n",
    "from numpy.random import randint \n",
    "import numpy as np \n",
    "\n",
    "#if alice prepares a qubit in the state |+>(0 in the X-basis), and bob measures it in the X-basis\n",
    "#, Bob is sure to measure 0: \n",
    "\n",
    "qc = QuantumCircuit(1,1)\n",
    "#Alice prepare qubit is state |+> \n",
    "qc.h(0)\n",
    "qc.barrier()\n",
    "#Alice now sends the qubit to Bob who measures it in the X-basis \n",
    "qc.h(0)\n",
    "qc.measure(0,0)\n",
    "\n",
    "#Draw and simulate circuit\n",
    "display(qc.draw())\n",
    "aer_sim = Aer.get_backend('aer_simulator')\n",
    "job = aer_sim.run(qc)\n",
    "plot_histogram(job.result().get_counts())"
   ]
  },
  {
   "cell_type": "code",
   "execution_count": 30,
   "id": "b91bad7a-4d97-4dbb-8972-9f5e9103f6c4",
   "metadata": {},
   "outputs": [
    {
     "data": {
      "text/html": [
       "<pre style=\"word-wrap: normal;white-space: pre;background: #fff0;line-height: 1.1;font-family: &quot;Courier New&quot;,Courier,monospace\">     ┌───┐┌─┐ ░ ┌───┐┌─┐\n",
       "  q: ┤ H ├┤M├─░─┤ H ├┤M├\n",
       "     └───┘└╥┘ ░ └───┘└╥┘\n",
       "c: 1/══════╩══════════╩═\n",
       "           0          0 </pre>"
      ],
      "text/plain": [
       "     ┌───┐┌─┐ ░ ┌───┐┌─┐\n",
       "  q: ┤ H ├┤M├─░─┤ H ├┤M├\n",
       "     └───┘└╥┘ ░ └───┘└╥┘\n",
       "c: 1/══════╩══════════╩═\n",
       "           0          0 "
      ]
     },
     "metadata": {},
     "output_type": "display_data"
    },
    {
     "data": {
      "image/png": "[encoded data removed]",
      "text/plain": [
       "<Figure size 700x500 with 1 Axes>"
      ]
     },
     "execution_count": 30,
     "metadata": {},
     "output_type": "execute_result"
    }
   ],
   "source": [
    "#But if Eve tries to measure this qubit in the Z-basis before it reaches Bob, she will change the \n",
    "#qubit's state from |+> to either |0> or |1>, and bob is no longer certain to measure 0: \n",
    "\n",
    "qc = QuantumCircuit(1,1)\n",
    "#Alice prepares qubit in state |+>\n",
    "qc.h(0)\n",
    "#alice now send the qubit to bob but Eve intercept and tries to read it \n",
    "qc.measure(0, 0)\n",
    "qc.barrier()\n",
    "#Eve then passes this on to Bob who measures it in the X-basis\n",
    "qc.h(0)\n",
    "qc.measure(0,0)\n",
    "#Draw and simulate circuit \n",
    "display(qc.draw())\n",
    "aer_sim = Aer.get_backend('aer_simulator')\n",
    "job = aer_sim.run(qc)\n",
    "plot_histogram(job.result().get_counts())"
   ]
  },
  {
   "cell_type": "code",
   "execution_count": 31,
   "id": "a221ffa4-1081-4bcd-aba1-2cfad2b96ce0",
   "metadata": {},
   "outputs": [
    {
     "name": "stdout",
     "output_type": "stream",
     "text": [
      "[0 1 1 0 1 1 1 1 1 1 1 0 0 1 0 0 0 0 0 1 0 1 1 0 0 1 1 1 1 0 1 0 1 0 1 1 0\n",
      " 1 1 0 0 1 0 1 1 1 1 1 0 1 0 1 1 1 1 0 1 0 0 1 1 0 1 0 1 0 0 0 0 0 1 1 0 0\n",
      " 0 1 1 0 1 0 0 1 0 1 1 1 1 1 1 0 1 1 0 0 1 0 0 1 1 0]\n"
     ]
    }
   ],
   "source": [
    "#To generate pseudo-random keys, we will use the randint fucntion from numpy\n",
    "#To make sure you can reproduce the reults on this page, we will set the seed to 0:\n",
    "np.random.seed(seed=0)\n",
    "\n",
    "#We will call the length of Aliuce's initial message n. In this example, \n",
    "#Allice will send the message 100 qubits long:\n",
    "n = 100 \n",
    "\n",
    "#step1: alice generates her random set of bits. \n",
    "alice_bits = randint(2, size=n)\n",
    "print(alice_bits)\n",
    "\n"
   ]
  },
  {
   "cell_type": "code",
   "execution_count": 32,
   "id": "3c8eba65-76f5-40af-aeb9-4ab008ca0e8c",
   "metadata": {},
   "outputs": [],
   "source": [
    "#the function encode_message below, creates a list of QuantumCircuit\n",
    "#each representing a single qubit in Alice's message\n",
    "def encode_message(bits, bases):\n",
    "    message = []\n",
    "    for i in range(n):\n",
    "        qc = QuantumCircuit(1,1)\n",
    "        if bases[i] == 0: # prepare qubit in Z-basis\n",
    "            if bits[i] == 0:\n",
    "                pass\n",
    "            else: \n",
    "                qc.x(0)\n",
    "        else: # prepare qubit in X-basis \n",
    "            if bits[i] == 0:\n",
    "                qc.h(0)\n",
    "            else:\n",
    "                qc.x(0)\n",
    "                qc.h(0)\n",
    "        qc.barrier()\n",
    "        message.append(qc)\n",
    "    return message"
   ]
  },
  {
   "cell_type": "code",
   "execution_count": 33,
   "id": "d2fee8c8-04c3-47c2-ae4f-2f07ebccd9a0",
   "metadata": {},
   "outputs": [
    {
     "name": "stdout",
     "output_type": "stream",
     "text": [
      "bit = 0\n",
      "basis = 1\n"
     ]
    }
   ],
   "source": [
    "np.random.seed(seed=0)\n",
    "n=100 \n",
    "\n",
    "#step1: alice generates bits \n",
    "alice_bits = randint(2, size=n)\n",
    "#Step2: create an array to tell us which qubits are encoded in which bases. \n",
    "alice_bases = randint(2, size=n)\n",
    "message = encode_message(alice_bits, alice_bases)\n",
    "\n",
    "#We can see that thie first bit in alice_bits is 0, and the basis the encode this in \n",
    "#is the X-basis(represented by 1):\n",
    "print('bit = %i' %alice_bits[0])\n",
    "print('basis = %i' %alice_bases[0])"
   ]
  },
  {
   "cell_type": "code",
   "execution_count": 34,
   "id": "be017667-3ca3-4ada-a28d-36e03f0ebe65",
   "metadata": {},
   "outputs": [
    {
     "data": {
      "text/html": [
       "<pre style=\"word-wrap: normal;white-space: pre;background: #fff0;line-height: 1.1;font-family: &quot;Courier New&quot;,Courier,monospace\">     ┌───┐ ░ \n",
       "  q: ┤ H ├─░─\n",
       "     └───┘ ░ \n",
       "c: 1/════════\n",
       "             </pre>"
      ],
      "text/plain": [
       "     ┌───┐ ░ \n",
       "  q: ┤ H ├─░─\n",
       "     └───┘ ░ \n",
       "c: 1/════════\n",
       "             "
      ]
     },
     "execution_count": 34,
     "metadata": {},
     "output_type": "execute_result"
    }
   ],
   "source": [
    "#if we view the first circuit in message(representing the first qubit in Alice's message), \n",
    "#we can verify that Allice has prepared a qubit in the state |+>\n",
    "message[0].draw()"
   ]
  },
  {
   "cell_type": "code",
   "execution_count": 35,
   "id": "94d92bac-6671-49fb-a4bb-542f1b8fdad1",
   "metadata": {},
   "outputs": [
    {
     "name": "stdout",
     "output_type": "stream",
     "text": [
      "bit = 1\n",
      "basis = 0\n"
     ]
    },
    {
     "data": {
      "text/html": [
       "<pre style=\"word-wrap: normal;white-space: pre;background: #fff0;line-height: 1.1;font-family: &quot;Courier New&quot;,Courier,monospace\">     ┌───┐ ░ \n",
       "  q: ┤ X ├─░─\n",
       "     └───┘ ░ \n",
       "c: 1/════════\n",
       "             </pre>"
      ],
      "text/plain": [
       "     ┌───┐ ░ \n",
       "  q: ┤ X ├─░─\n",
       "     └───┘ ░ \n",
       "c: 1/════════\n",
       "             "
      ]
     },
     "execution_count": 35,
     "metadata": {},
     "output_type": "execute_result"
    }
   ],
   "source": [
    "#as another example, we can see that the fourth bit in alice_bits is 1, and it is encoded\n",
    "#in the Z-basis, Alice prepares the corresponding qubit in the state|1>\n",
    "print('bit = %i' %alice_bits[4])\n",
    "print('basis = %i'%alice_bases[4])\n",
    "message[4].draw()"
   ]
  },
  {
   "cell_type": "code",
   "execution_count": 36,
   "id": "d6b1cc54-2862-43ba-896a-e5bad76d92a2",
   "metadata": {},
   "outputs": [
    {
     "name": "stdout",
     "output_type": "stream",
     "text": [
      "[1 0 1 0 0 1 1 0 0 0 1 1 0 0 0 0 0 1 0 1 0 0 0 1 1 1 0 0 1 1 1 1 0 0 0 1 1\n",
      " 0 1 0 0 1 0 1 1 1 1 0 0 0 1 1 1 0 1 1 1 1 0 0 1 1 0 0 0 1 1 0 1 1 1 1 1 0\n",
      " 0 0 1 0 1 0 1 1 0 0 0 1 0 0 1 1 1 1 0 1 0 0 0 0 1 1]\n"
     ]
    }
   ],
   "source": [
    "#3.3 step 3 \n",
    "# Bob then measures each qubit in the X or Z-bsis at random and stores this information. \n",
    "#decide which basis to measure in:\n",
    "bob_bases = randint(2, size=n)\n",
    "print(bob_bases)"
   ]
  },
  {
   "cell_type": "code",
   "execution_count": 37,
   "id": "3349de7d-381f-4854-bea0-722ea2c2a0e0",
   "metadata": {},
   "outputs": [],
   "source": [
    "#below, the fucntion measure_message applies the corresponding measurement and simulates\n",
    "#the result of measuring each qubit. We store the measurement results in bob_results. \n",
    "\n",
    "def measure_message(message, bases):\n",
    "    backend = Aer.get_backend('aer_simulator')\n",
    "    measurements = []\n",
    "    for q in range(n):\n",
    "        if bases[q] == 0: #measureing in Z-basis.\n",
    "            message[q].measure(0,0)\n",
    "        if bases[q] == 1: #measurinig in X-basis.\n",
    "            message[q].h(0)\n",
    "            message[q].measure(0,0)\n",
    "        aer_sim = Aer.get_backend('aer_simulator')\n",
    "        result = aer_sim.run(message[q], shots=1, memory=True).result()\n",
    "        measured_bit = int(result.get_memory()[0])\n",
    "        measurements.append(measured_bit)\n",
    "    return measurements"
   ]
  },
  {
   "cell_type": "code",
   "execution_count": 38,
   "id": "d4945c1c-5661-42c3-be97-3b4fa0c1e924",
   "metadata": {},
   "outputs": [],
   "source": [
    "#step3 \n",
    "#decide which basis to measure in: \n",
    "bob_bases = randint(2, size=n)\n",
    "bob_results = measure_message(message, bob_bases)"
   ]
  },
  {
   "cell_type": "code",
   "execution_count": 39,
   "id": "d6e742db-6db7-48fa-810a-3c8eeaaec2e4",
   "metadata": {},
   "outputs": [
    {
     "data": {
      "text/html": [
       "<pre style=\"word-wrap: normal;white-space: pre;background: #fff0;line-height: 1.1;font-family: &quot;Courier New&quot;,Courier,monospace\">     ┌───┐ ░ ┌───┐┌─┐\n",
       "  q: ┤ H ├─░─┤ H ├┤M├\n",
       "     └───┘ ░ └───┘└╥┘\n",
       "c: 1/══════════════╩═\n",
       "                   0 </pre>"
      ],
      "text/plain": [
       "     ┌───┐ ░ ┌───┐┌─┐\n",
       "  q: ┤ H ├─░─┤ H ├┤M├\n",
       "     └───┘ ░ └───┘└╥┘\n",
       "c: 1/══════════════╩═\n",
       "                   0 "
      ]
     },
     "execution_count": 39,
     "metadata": {},
     "output_type": "execute_result"
    }
   ],
   "source": [
    "#we can see that the circuit in message[0](representing the 0th qubit) has had an X-measuremen\n",
    "#added to it by Bob:\n",
    "message[0].draw()"
   ]
  },
  {
   "cell_type": "code",
   "execution_count": 40,
   "id": "8b9727d9-bed7-491c-a67f-ac0f6ceeb2fd",
   "metadata": {},
   "outputs": [
    {
     "name": "stdout",
     "output_type": "stream",
     "text": [
      "[0, 1, 0, 1, 1, 1, 1, 1, 1, 1, 1, 0, 0, 1, 1, 1, 0, 0, 0, 0, 0, 1, 1, 0, 0, 1, 1, 1, 1, 0, 1, 0, 1, 1, 1, 1, 1, 1, 1, 0, 0, 0, 0, 1, 1, 1, 1, 1, 0, 0, 0, 1, 0, 0, 1, 1, 1, 0, 1, 1, 1, 1, 1, 1, 0, 1, 0, 0, 0, 0, 1, 1, 0, 0, 1, 1, 1, 1, 1, 0, 0, 1, 0, 1, 1, 0, 1, 1, 0, 0, 1, 0, 0, 0, 1, 1, 1, 0, 1, 1]\n"
     ]
    }
   ],
   "source": [
    "#since bob has by chance chosen to measure in the same basis Alice encoded the qubit in, Bob is \n",
    "#gruranteed to get the rsult 0. For the 6th qubit(show below). Bob's random choice of measurment\n",
    "# is not the same sa Alice's and Bob's result has only a 50% chance of mattching Alices\n",
    "message[6].draw()\n",
    "print(bob_results)"
   ]
  },
  {
   "cell_type": "code",
   "execution_count": 41,
   "id": "4ef00c04-0292-42d6-9cc2-72512c70f0dc",
   "metadata": {},
   "outputs": [],
   "source": [
    "#Step4:after this, alice reveals(through Eve's channel) which qubits were encode in which basis: \n",
    "#and bob reveal which basis he measured each qubit in : \n",
    "# if bob happened to measure a bit in the same basis Alice prepared it in\n",
    "#this means the entry in bob_resilts will match the corresponding enty in alice_bits\n",
    "#and they can use that bit as part of their key. if they measured in different bases\n",
    "#bob's result is random, and they both throw that entry away.Here is a function remove_garbage \n",
    "#that does this for us:\n",
    "def remove_garbage(a_bases, b_bases, bits):\n",
    "    good_bits = []\n",
    "    for q in range(n):\n",
    "        if a_bases[q] == b_bases[q]:\n",
    "            #if both used the same basis, add this to the list of good bits. \n",
    "            good_bits.append(bits[q])\n",
    "    return good_bits"
   ]
  },
  {
   "cell_type": "code",
   "execution_count": 42,
   "id": "1bb45b7d-41e6-4406-9aad-5b1a5250d966",
   "metadata": {},
   "outputs": [
    {
     "name": "stdout",
     "output_type": "stream",
     "text": [
      "alice: [0, 1, 1, 1, 1, 1, 0, 0, 0, 0, 0, 1, 1, 1, 1, 1, 0, 1, 0, 1, 1, 1, 0, 0, 1, 1, 0, 1, 1, 0, 0, 0, 1, 1, 0, 0, 1, 1, 0, 1, 0, 1, 1, 1, 1, 0, 1]\n",
      "bob: [0, 1, 1, 1, 1, 1, 0, 0, 0, 0, 0, 1, 1, 1, 1, 1, 0, 1, 0, 1, 1, 1, 0, 0, 1, 1, 0, 1, 1, 0, 0, 0, 1, 1, 0, 0, 1, 1, 0, 1, 0, 1, 1, 1, 1, 0, 1]\n"
     ]
    }
   ],
   "source": [
    "#step4:\n",
    "alice_key = remove_garbage(alice_bases, bob_bases, alice_bits)\n",
    "bob_key = remove_garbage(alice_bases, bob_bases, bob_results)\n",
    "print(\"alice:\", alice_key)\n",
    "print(\"bob:\", bob_key)\n"
   ]
  },
  {
   "cell_type": "code",
   "execution_count": 43,
   "id": "b50f81d9-7473-46d4-b1bf-1118c3ef258b",
   "metadata": {},
   "outputs": [],
   "source": [
    "#Step5:finally, bob and alice compare a random selection of the bits in their keys to make sure \n",
    "#the protocol has worked correctly\n",
    "def sample_bits(bits, selection):\n",
    "    sample = []\n",
    "    for i in selection:\n",
    "        #use np.mod to make sure the bit we sample is always in the list range\n",
    "        i = np.mod(i, len(bits))\n",
    "        #pop(i) removes the elements of the list at index 'i'\n",
    "        sample.append(bits.pop(i))\n",
    "    return sample "
   ]
  },
  {
   "cell_type": "code",
   "execution_count": 44,
   "id": "490011c5-57ab-46a9-a683-3ed1f1bfdf14",
   "metadata": {},
   "outputs": [
    {
     "name": "stdout",
     "output_type": "stream",
     "text": [
      "bob_sample= [0, 0, 0, 1, 0, 1, 0, 1, 1, 1, 0, 1, 0, 0, 1]\n",
      "alice_sample = [0, 0, 0, 1, 0, 1, 0, 1, 1, 1, 0, 1, 0, 0, 1]\n"
     ]
    }
   ],
   "source": [
    "#step5:Alice and Bob both broadcast these publicly, and remove them from their keys \n",
    "#as they are no longer secret:\n",
    "\n",
    "\n",
    "sample_size = 15 \n",
    "bit_selection = randint(n, size=sample_size)\n",
    "\n",
    "bob_sample = sample_bits(bob_key, bit_selection)\n",
    "print(\"bob_sample= \" + str(bob_sample))\n",
    "alice_sample = sample_bits(alice_key, bit_selection)\n",
    "print(\"alice_sample = \"+ str(alice_sample))"
   ]
  },
  {
   "cell_type": "code",
   "execution_count": 45,
   "id": "2cdbbc02-50fb-48a9-91d0-097a03d277c4",
   "metadata": {},
   "outputs": [
    {
     "name": "stdout",
     "output_type": "stream",
     "text": [
      "[1, 1, 0, 0, 0, 0, 1, 1, 1, 1, 0, 1, 1, 1, 0, 1, 1, 1, 1, 0, 1, 1, 0, 0, 1, 0, 1, 1, 1, 1, 1, 0]\n",
      "[1, 1, 0, 0, 0, 0, 1, 1, 1, 1, 0, 1, 1, 1, 0, 1, 1, 1, 1, 0, 1, 1, 0, 0, 1, 0, 1, 1, 1, 1, 1, 0]\n",
      "key length = 32\n"
     ]
    }
   ],
   "source": [
    "#if the protocol has worked correctly without intergerece, their samples should match:\n",
    "bob_sample == alice_sample \n",
    "print(bob_key)\n",
    "print(alice_key)\n",
    "print(\"key length = %i\" % len(alice_key))"
   ]
  },
  {
   "cell_type": "code",
   "execution_count": 46,
   "id": "2a1157a3-6c70-4329-86e2-7094f2e1388f",
   "metadata": {},
   "outputs": [
    {
     "name": "stdout",
     "output_type": "stream",
     "text": [
      "[0 0 1 1 0 0 0 1 1 1 0 1 1 1 0 1 1 0 0 0 0 1 1 0 0 0 1 0 0 0 0 1 0 1 1 0 1\n",
      " 0 0 1 1 0 0 1 0 1 0 1 1 1 1 0 1 0 0 1 1 1 0 0 0 1 0 0 0 1 0 0 1 1 0 0 1 1\n",
      " 1 0 1 1 1 1 1 1 0 1 0 0 1 1 0 1 0 0 0 0 0 1 1 0 1 1]\n"
     ]
    }
   ],
   "source": [
    "#QISKIT EXAMPLE: WITH Interception \n",
    "#lets now see how Alice and Bob can tell if Eve has been trying to listen in on their QM\n",
    "#We repeat the same step as without interference, but before bob receives his qubits, Eve will \n",
    "#try and extract some information from them. Let's set a different seed so we get a specific \n",
    "#set of reproducible 'random' result:\n",
    "np.random.seed(seed=3)\n",
    "#step1: Alice generates her set of random bits:L\n",
    "alice_bits = randint(2, size=n)\n",
    "print(alice_bits)"
   ]
  },
  {
   "cell_type": "code",
   "execution_count": 47,
   "id": "d9fafd81-9b19-4b80-b011-5ae55c6b393a",
   "metadata": {},
   "outputs": [
    {
     "name": "stdout",
     "output_type": "stream",
     "text": [
      "[1 0 0 1 1 0 1 0 0 0 0 0 0 0 0 0 1 0 0 0 0 1 1 1 1 0 0 1 1 0 0 1 1 1 1 0 0\n",
      " 1 1 0 0 0 0 0 0 0 0 1 1 0 0 0 1 0 1 1 1 0 0 1 0 1 0 1 1 0 0 1 0 0 1 1 1 1\n",
      " 1 0 0 0 0 0 1 1 1 0 0 0 0 0 0 1 0 1 0 0 0 1 0 1 1 1]\n"
     ]
    }
   ],
   "source": [
    "#step2:Alice encodes these in the Z and X-bases at random, and sends these to bob through\n",
    "#quantum Eve's quantum channel. \n",
    "alice_bases = randint(2, size=n)\n",
    "message = encode_message(alice_bits, alice_bases)\n",
    "print(alice_bases)"
   ]
  },
  {
   "cell_type": "code",
   "execution_count": 48,
   "id": "a14ef851-6e6e-4709-9a23-fa99eb564737",
   "metadata": {},
   "outputs": [
    {
     "data": {
      "text/html": [
       "<pre style=\"word-wrap: normal;white-space: pre;background: #fff0;line-height: 1.1;font-family: &quot;Courier New&quot;,Courier,monospace\">     ┌───┐ ░ \n",
       "  q: ┤ H ├─░─\n",
       "     └───┘ ░ \n",
       "c: 1/════════\n",
       "             </pre>"
      ],
      "text/plain": [
       "     ┌───┐ ░ \n",
       "  q: ┤ H ├─░─\n",
       "     └───┘ ░ \n",
       "c: 1/════════\n",
       "             "
      ]
     },
     "execution_count": 48,
     "metadata": {},
     "output_type": "execute_result"
    }
   ],
   "source": [
    "#first qubit in Alice's message is in the state |+>\n",
    "message[0].draw()"
   ]
  },
  {
   "cell_type": "code",
   "execution_count": 49,
   "id": "da944f67-725d-4ce1-b41a-22b4bb280b72",
   "metadata": {},
   "outputs": [
    {
     "name": "stdout",
     "output_type": "stream",
     "text": [
      "[1, 1, 0, 0, 0, 0, 0, 0, 1, 1, 0, 1, 1, 1, 0, 1, 1, 0, 0, 0, 0, 1, 1, 0, 0, 1, 1, 0, 0, 0, 0, 1, 0, 1, 1, 0, 1, 0, 0, 1, 1, 0, 0, 0, 0, 0, 0, 0, 1, 1, 0, 1, 1, 0, 0, 1, 0, 0, 0, 0, 0, 0, 1, 1, 0, 1, 0, 1, 1, 1, 0, 0, 1, 1, 0, 0, 1, 1, 1, 1, 1, 0, 0, 1, 0, 1, 1, 1, 0, 1, 0, 0, 0, 0, 1, 1, 1, 0, 1, 0]\n"
     ]
    }
   ],
   "source": [
    "#Interception!: Eve intercepts the message as it passes through her channel.She tries to measure\n",
    "#the qubits in a random selection of bases, in the same way bob will later\n",
    "eve_bases = randint(2, size=n)\n",
    "intercepted_message = measure_message(message, eve_bases)\n",
    "print(intercepted_message)"
   ]
  },
  {
   "cell_type": "code",
   "execution_count": 50,
   "id": "bd73de41-9bc1-4f38-926c-5624ebafe963",
   "metadata": {},
   "outputs": [
    {
     "data": {
      "text/html": [
       "<pre style=\"word-wrap: normal;white-space: pre;background: #fff0;line-height: 1.1;font-family: &quot;Courier New&quot;,Courier,monospace\">     ┌───┐ ░ ┌─┐\n",
       "  q: ┤ H ├─░─┤M├\n",
       "     └───┘ ░ └╥┘\n",
       "c: 1/═════════╩═\n",
       "              0 </pre>"
      ],
      "text/plain": [
       "     ┌───┐ ░ ┌─┐\n",
       "  q: ┤ H ├─░─┤M├\n",
       "     └───┘ ░ └╥┘\n",
       "c: 1/═════════╩═\n",
       "              0 "
      ]
     },
     "execution_count": 50,
     "metadata": {},
     "output_type": "execute_result"
    }
   ],
   "source": [
    "#We can see the case of qubit 0 below;Eve's random choice of basis is not the same as Alice's\n",
    "# and this will change the qubit state frokm |+>, to a random state in the Z-basis, with 50% \n",
    "#probability of |0> or |1>:\n",
    "message[0].draw()"
   ]
  },
  {
   "cell_type": "code",
   "execution_count": 51,
   "id": "af4cb83f-a513-4c0d-8bfc-abef23477d54",
   "metadata": {},
   "outputs": [
    {
     "data": {
      "text/html": [
       "<pre style=\"word-wrap: normal;white-space: pre;background: #fff0;line-height: 1.1;font-family: &quot;Courier New&quot;,Courier,monospace\">     ┌───┐ ░ ┌─┐┌───┐┌─┐\n",
       "  q: ┤ H ├─░─┤M├┤ H ├┤M├\n",
       "     └───┘ ░ └╥┘└───┘└╥┘\n",
       "c: 1/═════════╩═══════╩═\n",
       "              0       0 </pre>"
      ],
      "text/plain": [
       "     ┌───┐ ░ ┌─┐┌───┐┌─┐\n",
       "  q: ┤ H ├─░─┤M├┤ H ├┤M├\n",
       "     └───┘ ░ └╥┘└───┘└╥┘\n",
       "c: 1/═════════╩═══════╩═\n",
       "              0       0 "
      ]
     },
     "execution_count": 51,
     "metadata": {},
     "output_type": "execute_result"
    }
   ],
   "source": [
    "#step3:Eve then passes on the qubits to bob who measure them at random.In this case,bob chose\n",
    "#(by chance) to measure in the same basis Alice prepared in the qubit in. Without interception\n",
    "#bob would be guaranteed to measure 0, but because Eve tried to read the message he now has a \n",
    "#50 chance of measuring 1 instead. \n",
    "bob_bases = randint(2, size=n)\n",
    "bob_results = measure_message(message, bob_bases)\n",
    "message[0].draw()"
   ]
  },
  {
   "cell_type": "code",
   "execution_count": 52,
   "id": "a37345df-0aa4-4bbc-a788-bbd64760c7ff",
   "metadata": {},
   "outputs": [],
   "source": [
    "#step4: Bob and alice reveal their basis choices, and discard the useless bits: \n",
    "bob_key = remove_garbage(alice_bases, bob_bases, bob_results)\n",
    "alice_ley = remove_garbage(alice_bases, bob_bases, alice_bits)\n"
   ]
  },
  {
   "cell_type": "code",
   "execution_count": 53,
   "id": "3e11e796-b3f8-49cb-b0b4-42282425e196",
   "metadata": {},
   "outputs": [
    {
     "name": "stdout",
     "output_type": "stream",
     "text": [
      "  bob_sample = [1, 1, 0, 0, 1, 0, 0, 0, 0, 0, 0, 0, 0, 0, 0]\n",
      "alice_sample = [1, 0, 0, 1, 1, 1, 0, 0, 0, 0, 1, 0, 0, 1, 1]\n"
     ]
    }
   ],
   "source": [
    "#step5:bob and alice compare the same random selection of their keys to see if the qubits were intercept. \n",
    "## Step 5\n",
    "sample_size = 15\n",
    "bit_selection = randint(n, size=sample_size)\n",
    "bob_sample = sample_bits(bob_key, bit_selection)\n",
    "print(\"  bob_sample = \" + str(bob_sample))\n",
    "alice_sample = sample_bits(alice_key, bit_selection)\n",
    "print(\"alice_sample = \"+ str(alice_sample))"
   ]
  },
  {
   "cell_type": "code",
   "execution_count": 54,
   "id": "8755ebdd-20b3-4549-a01e-db42be42dd7a",
   "metadata": {},
   "outputs": [
    {
     "data": {
      "text/plain": [
       "False"
      ]
     },
     "execution_count": 54,
     "metadata": {},
     "output_type": "execute_result"
    }
   ],
   "source": [
    "bob_sample == alice_sample"
   ]
  },
  {
   "cell_type": "code",
   "execution_count": 55,
   "id": "8a0201d1-417e-4c2d-b146-6f8b0eeeba49",
   "metadata": {},
   "outputs": [],
   "source": [
    "#no!, bob's key and alice's key do not match. we know this is because Eve tried to read the message \n",
    "#between step 2 and 3, and changed the qubit's states. for all alice and bob know, this could be \n",
    "#due to noise in the cahnnel, but either way they msut throw away all their result and try again\n",
    "#Eve's interception attempt has failed. "
   ]
  },
  {
   "cell_type": "code",
   "execution_count": 56,
   "id": "162fac94-9022-4076-9e9d-921ebae38b7d",
   "metadata": {},
   "outputs": [
    {
     "name": "stdout",
     "output_type": "stream",
     "text": [
      "Eve's interference was detected.\n"
     ]
    }
   ],
   "source": [
    "#5: Risk Analysis \n",
    "n = 100\n",
    "# Step 1\n",
    "alice_bits = randint(2, size=n)\n",
    "alice_bases = randint(2, size=n)\n",
    "# Step 2\n",
    "message = encode_message(alice_bits, alice_bases)\n",
    "# Interception!\n",
    "eve_bases = randint(2, size=n)\n",
    "intercepted_message = measure_message(message, eve_bases)\n",
    "# Step 3\n",
    "bob_bases = randint(2, size=n)\n",
    "bob_results = measure_message(message, bob_bases)\n",
    "# Step 4\n",
    "bob_key = remove_garbage(alice_bases, bob_bases, bob_results)\n",
    "alice_key = remove_garbage(alice_bases, bob_bases, alice_bits)\n",
    "# Step 5\n",
    "sample_size = 15 # Change this to something lower and see if \n",
    "                 # Eve can intercept the message without Alice\n",
    "                 # and Bob finding out\n",
    "bit_selection = randint(n, size=sample_size)\n",
    "bob_sample = sample_bits(bob_key, bit_selection)\n",
    "alice_sample = sample_bits(alice_key, bit_selection)\n",
    "\n",
    "if bob_sample != alice_sample:\n",
    "    print(\"Eve's interference was detected.\")\n",
    "else:\n",
    "    print(\"Eve went undetected!\")"
   ]
  },
  {
   "cell_type": "code",
   "execution_count": null,
   "id": "dd1f3410-0f6c-459e-9736-9fb6209be079",
   "metadata": {},
   "outputs": [],
   "source": []
  }
 ],
 "metadata": {
  "kernelspec": {
   "display_name": "Python 3 (ipykernel)",
   "language": "python",
   "name": "python3"
  },
  "language_info": {
   "codemirror_mode": {
    "name": "ipython",
    "version": 3
   },
   "file_extension": ".py",
   "mimetype": "text/x-python",
   "name": "python",
   "nbconvert_exporter": "python",
   "pygments_lexer": "ipython3",
   "version": "3.11.4"
  }
 },
 "nbformat": 4,
 "nbformat_minor": 5
}
