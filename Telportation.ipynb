{
 "cells": [
  {
   "cell_type": "code",
   "execution_count": 1,
   "id": "479bed57-ab8f-4077-92db-671baf546d3c",
   "metadata": {},
   "outputs": [],
   "source": [
    "from qiskit import QuantumCircuit, QuantumRegister, ClassicalRegister\n",
    "from qiskit_aer import AerSimulator\n",
    "from qiskit.visualization import plot_histogram"
   ]
  },
  {
   "cell_type": "code",
   "execution_count": 2,
   "id": "b7a3897c-1af2-466e-a152-35e3a76f0ba6",
   "metadata": {},
   "outputs": [],
   "source": [
    "qubit = QuantumRegister(1, \"Q\")\n",
    "ebit0 = QuantumRegister(1, \"A\")\n",
    "ebit1 = QuantumRegister(1, \"B\")\n",
    "a = ClassicalRegister(1, \"a\")\n",
    "b = ClassicalRegister(1, \"b\")\n",
    "\n",
    "protocol = QuantumCircuit(qubit, ebit0, ebit1, a, b)"
   ]
  },
  {
   "cell_type": "code",
   "execution_count": 3,
   "id": "2eae1e96-2ac5-4981-abc4-583dfb04ccc5",
   "metadata": {},
   "outputs": [
    {
     "data": {
      "text/plain": [
       "<qiskit.circuit.instructionset.InstructionSet at 0x186579ff0>"
      ]
     },
     "execution_count": 3,
     "metadata": {},
     "output_type": "execute_result"
    }
   ],
   "source": [
    "#prepare ebit used for teleportation\n",
    "protocol.h(ebit0)\n",
    "protocol.cx(ebit0, ebit1)\n",
    "protocol.barrier()"
   ]
  },
  {
   "cell_type": "code",
   "execution_count": 4,
   "id": "fd19c86d-13b1-44bb-b932-8d2eaffafd82",
   "metadata": {},
   "outputs": [
    {
     "data": {
      "text/plain": [
       "<qiskit.circuit.instructionset.InstructionSet at 0x18657a560>"
      ]
     },
     "execution_count": 4,
     "metadata": {},
     "output_type": "execute_result"
    }
   ],
   "source": [
    "#Alice's operation \n",
    "protocol.cx(qubit, ebit0)\n",
    "protocol.h(qubit)\n",
    "protocol.barrier()"
   ]
  },
  {
   "cell_type": "code",
   "execution_count": 5,
   "id": "b4643e32-3922-440d-95a9-37dde9f16d5b",
   "metadata": {},
   "outputs": [
    {
     "data": {
      "text/plain": [
       "<qiskit.circuit.instructionset.InstructionSet at 0x18657aa40>"
      ]
     },
     "execution_count": 5,
     "metadata": {},
     "output_type": "execute_result"
    }
   ],
   "source": [
    "#Alice measures and sends classical bits to Bob\n",
    "protocol.measure(ebit0, a)\n",
    "protocol.measure(qubit, b)\n",
    "protocol.barrier()"
   ]
  },
  {
   "cell_type": "code",
   "execution_count": 6,
   "id": "f513311e-41a9-459a-8cfa-0327ddb0d5b6",
   "metadata": {},
   "outputs": [
    {
     "data": {
      "text/html": [
       "<pre style=\"word-wrap: normal;white-space: pre;background: #fff0;line-height: 1.1;font-family: &quot;Courier New&quot;,Courier,monospace\">                ░      ┌───┐ ░    ┌─┐ ░                                     »\n",
       "  Q: ───────────░───■──┤ H ├─░────┤M├─░─────────────────────────────────────»\n",
       "     ┌───┐      ░ ┌─┴─┐└───┘ ░ ┌─┐└╥┘ ░ ┌────── ┌───┐ ───────┐              »\n",
       "  A: ┤ H ├──■───░─┤ X ├──────░─┤M├─╫──░─┤ If-0  ┤ X ├  End-0 ├──────────────»\n",
       "     └───┘┌─┴─┐ ░ └───┘      ░ └╥┘ ║  ░ └──╥─── └───┘ ───────┘ ┌────── ┌───┐»\n",
       "  B: ─────┤ X ├─░────────────░──╫──╫──░────╫───────────────────┤ If-0  ┤ Z ├»\n",
       "          └───┘ ░            ░  ║  ║  ░ ┌──╨──┐                └──╥─── └───┘»\n",
       "a: 1/═══════════════════════════╩══╬════╡ 0x1 ╞═══════════════════╬═════════»\n",
       "                                0  ║    └─────┘                ┌──╨──┐      »\n",
       "b: 1/══════════════════════════════╩═══════════════════════════╡ 0x1 ╞══════»\n",
       "                                   0                           └─────┘      »\n",
       "«               \n",
       "«  Q: ──────────\n",
       "«               \n",
       "«  A: ──────────\n",
       "«      ───────┐ \n",
       "«  B:   End-0 ├─\n",
       "«      ───────┘ \n",
       "«a: 1/══════════\n",
       "«               \n",
       "«b: 1/══════════\n",
       "«               </pre>"
      ],
      "text/plain": [
       "                ░      ┌───┐ ░    ┌─┐ ░                                     »\n",
       "  Q: ───────────░───■──┤ H ├─░────┤M├─░─────────────────────────────────────»\n",
       "     ┌───┐      ░ ┌─┴─┐└───┘ ░ ┌─┐└╥┘ ░ ┌────── ┌───┐ ───────┐              »\n",
       "  A: ┤ H ├──■───░─┤ X ├──────░─┤M├─╫──░─┤ If-0  ┤ X ├  End-0 ├──────────────»\n",
       "     └───┘┌─┴─┐ ░ └───┘      ░ └╥┘ ║  ░ └──╥─── └───┘ ───────┘ ┌────── ┌───┐»\n",
       "  B: ─────┤ X ├─░────────────░──╫──╫──░────╫───────────────────┤ If-0  ┤ Z ├»\n",
       "          └───┘ ░            ░  ║  ║  ░ ┌──╨──┐                └──╥─── └───┘»\n",
       "a: 1/═══════════════════════════╩══╬════╡ 0x1 ╞═══════════════════╬═════════»\n",
       "                                0  ║    └─────┘                ┌──╨──┐      »\n",
       "b: 1/══════════════════════════════╩═══════════════════════════╡ 0x1 ╞══════»\n",
       "                                   0                           └─────┘      »\n",
       "«               \n",
       "«  Q: ──────────\n",
       "«               \n",
       "«  A: ──────────\n",
       "«      ───────┐ \n",
       "«  B:   End-0 ├─\n",
       "«      ───────┘ \n",
       "«a: 1/══════════\n",
       "«               \n",
       "«b: 1/══════════\n",
       "«               "
      ]
     },
     "execution_count": 6,
     "metadata": {},
     "output_type": "execute_result"
    }
   ],
   "source": [
    "#Bob use the classical bits to conditionally apply gates\n",
    "with protocol.if_test((a, 1)):\n",
    "    protocol.x(ebit0)\n",
    "with protocol.if_test((b, 1)):\n",
    "    protocol.z(ebit1)\n",
    "\n",
    "protocol.draw()\n"
   ]
  },
  {
   "cell_type": "code",
   "execution_count": 7,
   "id": "d1f3b013-0c10-44c7-a0c7-3e610a43dfd6",
   "metadata": {},
   "outputs": [],
   "source": [
    "# Create a new circuit including the same bits and qubits used in the teleportation protocol, along with a new \"auxiliary\" qubit R\n",
    "aux = QuantumRegister(1, \"R\")\n",
    "test = QuantumCircuit(aux, qubit, ebit0, ebit1, a, b)\n"
   ]
  },
  {
   "cell_type": "code",
   "execution_count": 8,
   "id": "3d02efc3-d5c0-45d2-8405-3e8af07230c9",
   "metadata": {},
   "outputs": [
    {
     "data": {
      "text/plain": [
       "<qiskit.circuit.instructionset.InstructionSet at 0x12003a040>"
      ]
     },
     "execution_count": 8,
     "metadata": {},
     "output_type": "execute_result"
    }
   ],
   "source": [
    "#Entangle Q with R \n",
    "test.h(aux) \n",
    "test.cx(aux, qubit)\n",
    "test.barrier()\n"
   ]
  },
  {
   "cell_type": "code",
   "execution_count": 9,
   "id": "c895ffa4-a279-457e-84ee-feef7c84376e",
   "metadata": {},
   "outputs": [
    {
     "data": {
      "text/plain": [
       "<qiskit.circuit.instructionset.InstructionSet at 0x12003ae80>"
      ]
     },
     "execution_count": 9,
     "metadata": {},
     "output_type": "execute_result"
    }
   ],
   "source": [
    "#Append the protocol the circuit. The 'qubit' argument tells Qiskit that the protocol should operate on the qubits \n",
    "#numberd 1,2, and 3 (skipping qubit 0, which is R). \n",
    "test = test.compose(protocol, qubits=[1,2,3])\n",
    "test.barrier()"
   ]
  },
  {
   "cell_type": "code",
   "execution_count": 10,
   "id": "9e99f469-1557-40a6-abe1-9c3d7583e174",
   "metadata": {},
   "outputs": [
    {
     "data": {
      "text/html": [
       "<pre style=\"word-wrap: normal;white-space: pre;background: #fff0;line-height: 1.1;font-family: &quot;Courier New&quot;,Courier,monospace\">              ┌───┐      ░                                                »\n",
       "           R: ┤ H ├──■───░────────────────────────────────────────────────»\n",
       "              └───┘┌─┴─┐ ░            ░      ┌───┐ ░    ┌─┐ ░             »\n",
       "           Q: ─────┤ X ├─░────────────░───■──┤ H ├─░────┤M├─░─────────────»\n",
       "                   └───┘ ░ ┌───┐      ░ ┌─┴─┐└───┘ ░ ┌─┐└╥┘ ░ ┌──────────┐»\n",
       "           A: ───────────░─┤ H ├──■───░─┤ X ├──────░─┤M├─╫──░─┤0         ├»\n",
       "                         ░ └───┘┌─┴─┐ ░ └───┘      ░ └╥┘ ║  ░ │          │»\n",
       "           B: ───────────░──────┤ X ├─░────────────░──╫──╫──░─┤  If_else ├»\n",
       "                         ░      └───┘ ░            ░  ║  ║  ░ │          │»\n",
       "           a: ════════════════════════════════════════╩══╬════╡0         ╞»\n",
       "                                                         ║    └──────────┘»\n",
       "           b: ═══════════════════════════════════════════╩════════════════»\n",
       "                                                                          »\n",
       "Test result1: ════════════════════════════════════════════════════════════»\n",
       "                                                                          »\n",
       "«                           ░      ┌───┐┌─┐\n",
       "«           R: ─────────────░───■──┤ H ├┤M├\n",
       "«                           ░   │  └───┘└╥┘\n",
       "«           Q: ─────────────░───┼────────╫─\n",
       "«                           ░   │        ║ \n",
       "«           A: ─────────────░───┼────────╫─\n",
       "«              ┌──────────┐ ░ ┌─┴─┐      ║ \n",
       "«           B: ┤0         ├─░─┤ X ├──────╫─\n",
       "«              │          │ ░ └───┘      ║ \n",
       "«           a: ╡          ╞══════════════╬═\n",
       "«              │          │              ║ \n",
       "«           b: ╡0         ╞══════════════╬═\n",
       "«              └──────────┘              ║ \n",
       "«Test result1: ══════════════════════════╩═\n",
       "«                                          </pre>"
      ],
      "text/plain": [
       "              ┌───┐      ░                                                »\n",
       "           R: ┤ H ├──■───░────────────────────────────────────────────────»\n",
       "              └───┘┌─┴─┐ ░            ░      ┌───┐ ░    ┌─┐ ░             »\n",
       "           Q: ─────┤ X ├─░────────────░───■──┤ H ├─░────┤M├─░─────────────»\n",
       "                   └───┘ ░ ┌───┐      ░ ┌─┴─┐└───┘ ░ ┌─┐└╥┘ ░ ┌──────────┐»\n",
       "           A: ───────────░─┤ H ├──■───░─┤ X ├──────░─┤M├─╫──░─┤0         ├»\n",
       "                         ░ └───┘┌─┴─┐ ░ └───┘      ░ └╥┘ ║  ░ │          │»\n",
       "           B: ───────────░──────┤ X ├─░────────────░──╫──╫──░─┤  If_else ├»\n",
       "                         ░      └───┘ ░            ░  ║  ║  ░ │          │»\n",
       "           a: ════════════════════════════════════════╩══╬════╡0         ╞»\n",
       "                                                         ║    └──────────┘»\n",
       "           b: ═══════════════════════════════════════════╩════════════════»\n",
       "                                                                          »\n",
       "Test result1: ════════════════════════════════════════════════════════════»\n",
       "                                                                          »\n",
       "«                           ░      ┌───┐┌─┐\n",
       "«           R: ─────────────░───■──┤ H ├┤M├\n",
       "«                           ░   │  └───┘└╥┘\n",
       "«           Q: ─────────────░───┼────────╫─\n",
       "«                           ░   │        ║ \n",
       "«           A: ─────────────░───┼────────╫─\n",
       "«              ┌──────────┐ ░ ┌─┴─┐      ║ \n",
       "«           B: ┤0         ├─░─┤ X ├──────╫─\n",
       "«              │          │ ░ └───┘      ║ \n",
       "«           a: ╡          ╞══════════════╬═\n",
       "«              │          │              ║ \n",
       "«           b: ╡0         ╞══════════════╬═\n",
       "«              └──────────┘              ║ \n",
       "«Test result1: ══════════════════════════╩═\n",
       "«                                          "
      ]
     },
     "execution_count": 10,
     "metadata": {},
     "output_type": "execute_result"
    }
   ],
   "source": [
    "#After the protocols runs, check that (B,R) is in a phi+ state. We can add a new classical bit to the circuit to do this\n",
    "test.cx(aux, ebit1)\n",
    "test.h(aux)\n",
    "result = ClassicalRegister(1, \"Test result1\")\n",
    "test.add_register(result)\n",
    "test.measure(aux, result)\n",
    "\n",
    "test.draw()"
   ]
  },
  {
   "cell_type": "code",
   "execution_count": 14,
   "id": "68b61460-ae6b-456d-81bf-782da2038411",
   "metadata": {},
   "outputs": [
    {
     "data": {
      "image/png": "[encoded data removed]",
      "text/plain": [
       "<Figure size 700x500 with 1 Axes>"
      ]
     },
     "execution_count": 14,
     "metadata": {},
     "output_type": "execute_result"
    }
   ],
   "source": [
    "#run the Aer simulator on this circuit and plot a histogram of the output\n",
    "counts = AerSimulator().run(test).result().get_counts()\n",
    "plot_histogram(counts)"
   ]
  },
  {
   "cell_type": "code",
   "execution_count": 16,
   "id": "e514aaba-521a-4331-87aa-dafd033c2195",
   "metadata": {},
   "outputs": [
    {
     "data": {
      "image/png": "[encoded data removed]",
      "text/plain": [
       "<Figure size 700x500 with 1 Axes>"
      ]
     },
     "execution_count": 16,
     "metadata": {},
     "output_type": "execute_result"
    }
   ],
   "source": [
    "#only focus on counted qubit\n",
    "filtered_counts = {\"0\": 0, \"1\": 0}\n",
    "for result, frequency in counts.items():\n",
    "    filtered_counts[result[0] ]+= frequency\n",
    "plot_histogram(filtered_counts)"
   ]
  },
  {
   "cell_type": "code",
   "execution_count": null,
   "id": "4e4abfcf-8e35-4d60-a470-bf83562d4a91",
   "metadata": {},
   "outputs": [],
   "source": []
  }
 ],
 "metadata": {
  "kernelspec": {
   "display_name": "Python 3 (ipykernel)",
   "language": "python",
   "name": "python3"
  },
  "language_info": {
   "codemirror_mode": {
    "name": "ipython",
    "version": 3
   },
   "file_extension": ".py",
   "mimetype": "text/x-python",
   "name": "python",
   "nbconvert_exporter": "python",
   "pygments_lexer": "ipython3",
   "version": "3.11.4"
  }
 },
 "nbformat": 4,
 "nbformat_minor": 5
}
