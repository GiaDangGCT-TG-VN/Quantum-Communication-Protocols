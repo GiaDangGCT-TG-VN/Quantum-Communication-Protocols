{
 "cells": [
  {
   "cell_type": "code",
   "execution_count": null,
   "id": "a705f933-c760-414d-9ac8-71fd96dba5d0",
   "metadata": {},
   "outputs": [],
   "source": [
    "from numpy import array\n",
    "#qubit state |0> and |1>\n",
    "ket0 = array([1, 0])\n",
    "ket1 = array([0, 1])\n",
    "\n",
    "display(ket0/2 + ket1/2)"
   ]
  },
  {
   "cell_type": "code",
   "execution_count": null,
   "id": "eb86077e-33c5-4f5c-b5ac-21472dc94ed8",
   "metadata": {},
   "outputs": [],
   "source": [
    "#use array to create matrices \n",
    "M1 = array([ [1, 1], [0, 0] ])\n",
    "M2 = array([ [1, 1], [1, 0] ])\n",
    "\n",
    "M1/2 + M2/2"
   ]
  },
  {
   "cell_type": "code",
   "execution_count": null,
   "id": "f889d8d0-300b-4955-87c6-9dcd8b974639",
   "metadata": {},
   "outputs": [],
   "source": [
    "from numpy import matmul \n",
    "\n",
    "display(matmul(M1,ket1))\n",
    "display(matmul(M1,M2))\n",
    "display(matmul(M2,M1))"
   ]
  },
  {
   "cell_type": "code",
   "execution_count": null,
   "id": "c8d5b4e2-c403-4ac7-af46-369ddacc5b25",
   "metadata": {},
   "outputs": [],
   "source": [
    "#Defining and display state vectors \n",
    "#Qiskit's Statevector class provides functionality for defining and manipulating quantum state vectors\n",
    "from qiskit.quantum_info import Statevector \n",
    "from numpy import sqrt \n",
    "\n",
    "u = Statevector([1/sqrt(2), 1/sqrt(2)])\n",
    "v = Statevector([(1+2.j)/3, -2/3])\n",
    "w = Statevector([1/3, 2/3])\n",
    "\n",
    "print(\"State vectors u, v, and w have been defined.\")"
   ]
  },
  {
   "cell_type": "code",
   "execution_count": null,
   "id": "f5c11ced-c504-40a0-a201-cc27c2739ee3",
   "metadata": {},
   "outputs": [],
   "source": [
    "display(u.draw('latex'))\n",
    "display(v.draw('text'))"
   ]
  },
  {
   "cell_type": "code",
   "execution_count": null,
   "id": "1879a368-a968-4d17-80d9-26d71a179c1d",
   "metadata": {},
   "outputs": [],
   "source": [
    "display(u.is_valid())\n",
    "display(v.is_valid())\n",
    "display(w.is_valid())"
   ]
  },
  {
   "cell_type": "code",
   "execution_count": null,
   "id": "00db48b8-a1f5-4543-9536-1bc802d16824",
   "metadata": {},
   "outputs": [],
   "source": [
    "#Simulating measurement using statevector\n",
    "v = Statevector([(1+2.j)/3, -2/3])\n",
    "v.draw('latex')"
   ]
  },
  {
   "cell_type": "code",
   "execution_count": null,
   "id": "68804653-76d8-4b22-838b-eea9b10a6075",
   "metadata": {},
   "outputs": [],
   "source": [
    "#simulate a standard basis measurement \n",
    "v.measure()"
   ]
  },
  {
   "cell_type": "code",
   "execution_count": null,
   "id": "36a784de-2e73-4254-a694-b694312dbd6b",
   "metadata": {},
   "outputs": [],
   "source": [
    "#method allow for the simulation of any number of measurements on the system. \n",
    "from qiskit.visualization import plot_histogram\n",
    "\n",
    "statistics = v.sample_counts(1000)\n",
    "display(statistics) \n",
    "plot_histogram(statistics)"
   ]
  },
  {
   "cell_type": "code",
   "execution_count": null,
   "id": "19ac0178-6eec-479a-bf01-533cf8021b3f",
   "metadata": {},
   "outputs": [],
   "source": [
    "#performing operations with operator and statevector\n",
    "#Unitary operations \n",
    "from qiskit.quantum_info import Operator\n",
    "\n",
    "X = Operator([ [0,1],[1,0] ])\n",
    "Y = Operator([ [0,-1.j],[1.j,0] ])\n",
    "Z = Operator([ [1,0],[0,-1] ])\n",
    "H = Operator([ [1/sqrt(2),1/sqrt(2)],[1/sqrt(2),-1/sqrt(2)] ])\n",
    "S = Operator([ [1,0],[0,1.j] ])\n",
    "T = Operator([ [1,0],[0,(1+1.j)/sqrt(2)] ])\n",
    "\n",
    "v = Statevector([1,0])\n",
    "\n",
    "v = v.evolve(H)\n",
    "v = v.evolve(T)\n",
    "v = v.evolve(H)\n",
    "v = v.evolve(T)\n",
    "v = v.evolve(Z)\n",
    "\n",
    "v.draw('latex')"
   ]
  },
  {
   "cell_type": "code",
   "execution_count": null,
   "id": "f5c890cf-e37a-45e0-83f5-cd5b9a64dc40",
   "metadata": {},
   "outputs": [],
   "source": [
    "#Quantum circuit \n",
    "from qiskit import QuantumCircuit\n",
    "\n",
    "circuit = QuantumCircuit(1)\n",
    "\n",
    "circuit.h(0)\n",
    "circuit.t(0)\n",
    "circuit.h(0)\n",
    "circuit.t(0)\n",
    "circuit.z(0)\n",
    "\n",
    "circuit.draw()"
   ]
  },
  {
   "cell_type": "code",
   "execution_count": null,
   "id": "849a2940-8e2c-4880-8cf6-65eab8a44ce8",
   "metadata": {},
   "outputs": [],
   "source": [
    "ket0 = Statevector([1,0])\n",
    "v = ket0.evolve(circuit)\n",
    "v.draw('latex')"
   ]
  },
  {
   "cell_type": "code",
   "execution_count": null,
   "id": "35729c67-36c4-45c9-a5a8-d5486bbb1c97",
   "metadata": {},
   "outputs": [],
   "source": [
    "statistics = v.sample_counts(4000)\n",
    "plot_histogram(statistics)"
   ]
  },
  {
   "cell_type": "code",
   "execution_count": 7,
   "id": "96769382-5ea2-4eeb-922c-d903d5c8b36a",
   "metadata": {},
   "outputs": [
    {
     "name": "stdout",
     "output_type": "stream",
     "text": [
      "Statevector([0.+0.j, 1.+0.j, 0.+0.j, 0.+0.j],\n",
      "            dims=(2, 2))\n"
     ]
    }
   ],
   "source": [
    "from qiskit.quantum_info import Statevector, Operator\n",
    "from numpy import array \n",
    "from numpy import matmul\n",
    "from numpy import sqrt\n",
    "#tensor method, which returns the tensor product of itself and another Statevector. \n",
    "zero, one = Statevector.from_label('0'), Statevector.from_label('1')\n",
    "zero.tensor(one)  # returns new `Statevector`(|0⟩⊗|1⟩)\n"
   ]
  },
  {
   "cell_type": "code",
   "execution_count": 8,
   "id": "7a0252a8-d170-4dc9-a94d-ec4efa9d1bcc",
   "metadata": {},
   "outputs": [
    {
     "name": "stdout",
     "output_type": "stream",
     "text": [
      "Statevector([0.5+0.j , 0. +0.5j, 0.5+0.j , 0. +0.5j],\n",
      "            dims=(2, 2))\n"
     ]
    }
   ],
   "source": [
    "from numpy import sqrt\n",
    "plus = Statevector.from_label('+')\n",
    "i_state = Statevector([1/sqrt(2), 1j/sqrt(2)])\n",
    "\n",
    "psi = plus.tensor(i_state)\n",
    "psi"
   ]
  },
  {
   "cell_type": "code",
   "execution_count": 9,
   "id": "bd176a29-a6f7-47f8-9b55-156d4d3a9a58",
   "metadata": {},
   "outputs": [
    {
     "data": {
      "text/plain": [
       "Operator([[0.+0.j, 0.+0.j, 1.+0.j, 0.+0.j],\n",
       "          [0.+0.j, 0.+0.j, 0.+0.j, 1.+0.j],\n",
       "          [1.+0.j, 0.+0.j, 0.+0.j, 0.+0.j],\n",
       "          [0.+0.j, 1.+0.j, 0.+0.j, 0.+0.j]],\n",
       "         input_dims=(2, 2), output_dims=(2, 2))"
      ]
     },
     "execution_count": 9,
     "metadata": {},
     "output_type": "execute_result"
    }
   ],
   "source": [
    "X = Operator([ [0, 1],\n",
    "              [1, 0] ])\n",
    "\n",
    "I = Operator([ [1, 0],\n",
    "              [0, 1] ])\n",
    "\n",
    "X.tensor(I)\n"
   ]
  },
  {
   "cell_type": "code",
   "execution_count": 10,
   "id": "e0f06b11-d9da-44bc-9d85-a4796563a131",
   "metadata": {},
   "outputs": [
    {
     "name": "stdout",
     "output_type": "stream",
     "text": [
      "Statevector([0. +0.5j, 0.5+0.j , 0. +0.5j, 0.5+0.j ],\n",
      "            dims=(2, 2))\n"
     ]
    }
   ],
   "source": [
    "#tensor two operators together\n",
    "psi.evolve( I ^ X )"
   ]
  },
  {
   "cell_type": "code",
   "execution_count": 11,
   "id": "468f4628-08da-472b-96d6-0fed73f72bd2",
   "metadata": {},
   "outputs": [
    {
     "name": "stdout",
     "output_type": "stream",
     "text": [
      "Statevector([0.5+0.j , 0. +0.5j, 0. +0.5j, 0.5+0.j ],\n",
      "            dims=(2, 2))\n"
     ]
    }
   ],
   "source": [
    "CNOT = Operator([ [1, 0, 0, 0],\n",
    "                 [0, 1, 0, 0],\n",
    "                 [0, 0, 0, 1],\n",
    "                 [0, 0, 1, 0] ])\n",
    "\n",
    "psi.evolve(CNOT)"
   ]
  },
  {
   "cell_type": "code",
   "execution_count": 12,
   "id": "512f6354-212c-4820-857d-75c913a77fdf",
   "metadata": {},
   "outputs": [
    {
     "name": "stdout",
     "output_type": "stream",
     "text": [
      "Statevector([0.        +0.j, 0.57735027+0.j, 0.57735027+0.j,\n",
      "             0.        +0.j, 0.57735027+0.j, 0.        +0.j,\n",
      "             0.        +0.j, 0.        +0.j],\n",
      "            dims=(2, 2, 2))\n"
     ]
    }
   ],
   "source": [
    "#Partial Measurement \n",
    "from numpy import sqrt\n",
    "W = Statevector([0, 1, 1, 0, 1, 0, 0, 0]/sqrt(3))\n",
    "W"
   ]
  },
  {
   "cell_type": "code",
   "execution_count": 13,
   "id": "e36a4820-420d-4223-b307-0b01e3dac48b",
   "metadata": {},
   "outputs": [
    {
     "name": "stdout",
     "output_type": "stream",
     "text": [
      "Measured: 0\n",
      "State after measurement:\n",
      "Statevector([0.        +0.j, 0.        +0.j, 0.70710678+0.j,\n",
      "             0.        +0.j, 0.70710678+0.j, 0.        +0.j,\n",
      "             0.        +0.j, 0.        +0.j],\n",
      "            dims=(2, 2, 2))\n"
     ]
    }
   ],
   "source": [
    "result, new_sv = W.measure([0])  # measure qubit 0\n",
    "print(f'Measured: {result}\\nState after measurement:')\n",
    "new_sv"
   ]
  },
  {
   "cell_type": "code",
   "execution_count": null,
   "id": "ed9dae0a-b65d-4911-b550-40ce5eea7d3e",
   "metadata": {},
   "outputs": [],
   "source": []
  }
 ],
 "metadata": {
  "kernelspec": {
   "display_name": "Python 3 (ipykernel)",
   "language": "python",
   "name": "python3"
  },
  "language_info": {
   "codemirror_mode": {
    "name": "ipython",
    "version": 3
   },
   "file_extension": ".py",
   "mimetype": "text/x-python",
   "name": "python",
   "nbconvert_exporter": "python",
   "pygments_lexer": "ipython3",
   "version": "3.9.6"
  }
 },
 "nbformat": 4,
 "nbformat_minor": 5
}
